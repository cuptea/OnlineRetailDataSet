{
 "cells": [
  {
   "cell_type": "markdown",
   "metadata": {},
   "source": [
    "# Exercise n.1\n",
    "\n",
    "Online Retail Data\n",
    "Start from this dataset: https://archive.ics.uci.edu/ml/datasets/Online+Retail\n",
    "\n",
    "Questions:\n",
    "1. Which products are often bought together? \n",
    "2. How would you identify similar customers?\n",
    "3. \n",
    "    - (1) Create a predictive model to estimate the probability that an order is cancelled. Therefor validate and tune three models of your choice.\n",
    "    - (2) Identify the most important features in the dataset for predicting the cancellation. Quantify the effect of one of them on the cancellation probability\n"
   ]
  },
  {
   "cell_type": "markdown",
   "metadata": {},
   "source": [
    "---\n",
    "# Table of Contents\n",
    "\n",
    "1. [Raw Data](#data)\n",
    "    - 1.1 [Download the Dataset](#get_data)\n",
    "    - 1.2 [Store data as local csv file](#turn_data)\n",
    "    \n",
    "2. [EDA](#eda)\n",
    "    - 2.1 [Load data from csv file](#load_data)\n",
    "    - 2.2 [Missing data](#missing_data)\n",
    "    - 2.3 [Unique entities](#unique_entities)\n",
    "    - 2.4 [StockCode investigation](#stock_code)\n",
    " \n",
    "3. [Q&A](#q&a) \n",
    "    - Q#1. [Which products are often bought together?](#q1)\n",
    "    - Q#2. [How would you identify similar customers?](#q2)\n",
    "    - Q#3\n",
    "        - Q#3.1 [Create a predictive model to estimate the probability that an order is cancelled. Therefor validate and tune three models of your choice.](#q31)\n",
    "        - Q#3.2 [Identify the most important features in the dataset for predicting the cancellation. Quantify the effect of one of them on the cancellation probability](#q32)"
   ]
  },
  {
   "cell_type": "markdown",
   "metadata": {},
   "source": [
    "\n",
    "---\n",
    "## Raw Data\n",
    "### 1.1 Downlaod the data\n",
    "<a id=\"get_data\"></a>\n"
   ]
  },
  {
   "cell_type": "code",
   "execution_count": null,
   "metadata": {},
   "outputs": [],
   "source": [
    "import urllib.request\n",
    "data_url = \"https://archive.ics.uci.edu/ml/machine-learning-databases/00352/Online%20Retail.xlsx\"\n",
    "urllib.request.urlretrieve(data_url, \"../data/data.xlsx\")"
   ]
  },
  {
   "cell_type": "markdown",
   "metadata": {},
   "source": [
    "### 1.2 Store data as local csv file\n",
    "<a id=\"turn_data\"></a>\n",
    "####  Read the excel data into memory"
   ]
  },
  {
   "cell_type": "code",
   "execution_count": 2,
   "metadata": {},
   "outputs": [],
   "source": [
    "from openpyxl import load_workbook\n",
    "import pandas as pd\n",
    "\n",
    "def load_data(file_path):\n",
    "    '''Turn the .xlsx files into pandas data frame\n",
    "    \n",
    "    Args:\n",
    "        file_path (str): path to the local .xlsx file\n",
    "        \n",
    "    return:\n",
    "        df (pd.DataFrame): output dataframe\n",
    "    '''\n",
    "    # load .xlsx file\n",
    "    wb=load_workbook(file_path)\n",
    "    # activate sheet\n",
    "    sheet=wb.active\n",
    "    # get max row and column count\n",
    "    max_row, max_column = sheet.max_row, sheet.max_column\n",
    "\n",
    "    # placeholder for the data\n",
    "    all_rows = []\n",
    "\n",
    "    # iterate over all cells \n",
    "    for i in range(1,max_row+1):\n",
    "        # temp for each event\n",
    "        row_value = []\n",
    "        for j in range(1,max_column+1):\n",
    "            # get particular cell value    \n",
    "            cell_obj=sheet.cell(row=i,column=j)\n",
    "            row_value.append(cell_obj.value)           \n",
    "        all_rows.append(row_value)\n",
    "\n",
    "\n",
    "    df = pd.DataFrame(all_rows[1:], columns=all_rows[0])\n",
    "    df['InvoiceDate'] = pd.to_datetime(df['InvoiceDate'])\n",
    "    return df"
   ]
  },
  {
   "cell_type": "code",
   "execution_count": 57,
   "metadata": {},
   "outputs": [
    {
     "name": "stdout",
     "output_type": "stream",
     "text": [
      "541910 8\n"
     ]
    }
   ],
   "source": [
    "data_path = \"../data/data.xlsx\"\n",
    "data = load_data(data_path)"
   ]
  },
  {
   "cell_type": "markdown",
   "metadata": {},
   "source": [
    "#### enrich with \"is_cancelled\" column"
   ]
  },
  {
   "cell_type": "code",
   "execution_count": 637,
   "metadata": {},
   "outputs": [],
   "source": [
    "def get_cancel_status(invoice_no):\n",
    "    if 'c' in str(invoice_no).lower():\n",
    "        return 1\n",
    "    else:\n",
    "        return 0\n",
    "    \n",
    "data['is_cancelled'] = [get_cancel_status(invoice_no) for invoice_no in data['InvoiceNo']]"
   ]
  },
  {
   "cell_type": "markdown",
   "metadata": {},
   "source": [
    "#### remove invalid rows"
   ]
  },
  {
   "cell_type": "code",
   "execution_count": 635,
   "metadata": {},
   "outputs": [],
   "source": [
    "data.drop(data.index[data.is_cancelled*data.Quantity<=0],inplace=True)"
   ]
  },
  {
   "cell_type": "markdown",
   "metadata": {},
   "source": [
    "####  Save data into csv format"
   ]
  },
  {
   "cell_type": "code",
   "execution_count": 638,
   "metadata": {},
   "outputs": [],
   "source": [
    "# save data into csv so that it is quick to resume\n",
    "file_path = \"../data/data.csv\"\n",
    "data.to_csv(file_path,index=False)"
   ]
  },
  {
   "cell_type": "markdown",
   "metadata": {},
   "source": [
    "## 2. EDA\n",
    "<a id=\"eda\"></a>"
   ]
  },
  {
   "cell_type": "markdown",
   "metadata": {},
   "source": [
    "### 2.1 Load data from csv file\n",
    "<a id=\"load_data\"></a>\n",
    "Since it takes some time to parse the excel files, you can speed up by loading the data in the csv format from the local disk.  "
   ]
  },
  {
   "cell_type": "code",
   "execution_count": 639,
   "metadata": {},
   "outputs": [],
   "source": [
    "from pathlib import Path\n",
    "\n",
    "data_file = Path(file_path)\n",
    "if data_file.exists():\n",
    "    data = pd.read_csv('../data/data.csv')\n"
   ]
  },
  {
   "cell_type": "code",
   "execution_count": 640,
   "metadata": {},
   "outputs": [
    {
     "data": {
      "text/html": [
       "<div>\n",
       "<style scoped>\n",
       "    .dataframe tbody tr th:only-of-type {\n",
       "        vertical-align: middle;\n",
       "    }\n",
       "\n",
       "    .dataframe tbody tr th {\n",
       "        vertical-align: top;\n",
       "    }\n",
       "\n",
       "    .dataframe thead th {\n",
       "        text-align: right;\n",
       "    }\n",
       "</style>\n",
       "<table border=\"1\" class=\"dataframe\">\n",
       "  <thead>\n",
       "    <tr style=\"text-align: right;\">\n",
       "      <th></th>\n",
       "      <th>InvoiceNo</th>\n",
       "      <th>StockCode</th>\n",
       "      <th>Description</th>\n",
       "      <th>Quantity</th>\n",
       "      <th>InvoiceDate</th>\n",
       "      <th>UnitPrice</th>\n",
       "      <th>CustomerID</th>\n",
       "      <th>Country</th>\n",
       "      <th>is_cancelled</th>\n",
       "    </tr>\n",
       "  </thead>\n",
       "  <tbody>\n",
       "    <tr>\n",
       "      <th>0</th>\n",
       "      <td>536365</td>\n",
       "      <td>85123A</td>\n",
       "      <td>WHITE HANGING HEART T-LIGHT HOLDER</td>\n",
       "      <td>6</td>\n",
       "      <td>2010-12-01 08:26:00</td>\n",
       "      <td>2.55</td>\n",
       "      <td>17850.0</td>\n",
       "      <td>United Kingdom</td>\n",
       "      <td>0</td>\n",
       "    </tr>\n",
       "    <tr>\n",
       "      <th>1</th>\n",
       "      <td>536365</td>\n",
       "      <td>71053</td>\n",
       "      <td>WHITE METAL LANTERN</td>\n",
       "      <td>6</td>\n",
       "      <td>2010-12-01 08:26:00</td>\n",
       "      <td>3.39</td>\n",
       "      <td>17850.0</td>\n",
       "      <td>United Kingdom</td>\n",
       "      <td>0</td>\n",
       "    </tr>\n",
       "    <tr>\n",
       "      <th>2</th>\n",
       "      <td>536365</td>\n",
       "      <td>84406B</td>\n",
       "      <td>CREAM CUPID HEARTS COAT HANGER</td>\n",
       "      <td>8</td>\n",
       "      <td>2010-12-01 08:26:00</td>\n",
       "      <td>2.75</td>\n",
       "      <td>17850.0</td>\n",
       "      <td>United Kingdom</td>\n",
       "      <td>0</td>\n",
       "    </tr>\n",
       "    <tr>\n",
       "      <th>3</th>\n",
       "      <td>536365</td>\n",
       "      <td>84029G</td>\n",
       "      <td>KNITTED UNION FLAG HOT WATER BOTTLE</td>\n",
       "      <td>6</td>\n",
       "      <td>2010-12-01 08:26:00</td>\n",
       "      <td>3.39</td>\n",
       "      <td>17850.0</td>\n",
       "      <td>United Kingdom</td>\n",
       "      <td>0</td>\n",
       "    </tr>\n",
       "    <tr>\n",
       "      <th>4</th>\n",
       "      <td>536365</td>\n",
       "      <td>84029E</td>\n",
       "      <td>RED WOOLLY HOTTIE WHITE HEART.</td>\n",
       "      <td>6</td>\n",
       "      <td>2010-12-01 08:26:00</td>\n",
       "      <td>3.39</td>\n",
       "      <td>17850.0</td>\n",
       "      <td>United Kingdom</td>\n",
       "      <td>0</td>\n",
       "    </tr>\n",
       "  </tbody>\n",
       "</table>\n",
       "</div>"
      ],
      "text/plain": [
       "  InvoiceNo StockCode                          Description  Quantity  \\\n",
       "0    536365    85123A   WHITE HANGING HEART T-LIGHT HOLDER         6   \n",
       "1    536365     71053                  WHITE METAL LANTERN         6   \n",
       "2    536365    84406B       CREAM CUPID HEARTS COAT HANGER         8   \n",
       "3    536365    84029G  KNITTED UNION FLAG HOT WATER BOTTLE         6   \n",
       "4    536365    84029E       RED WOOLLY HOTTIE WHITE HEART.         6   \n",
       "\n",
       "           InvoiceDate  UnitPrice  CustomerID         Country  is_cancelled  \n",
       "0  2010-12-01 08:26:00       2.55     17850.0  United Kingdom             0  \n",
       "1  2010-12-01 08:26:00       3.39     17850.0  United Kingdom             0  \n",
       "2  2010-12-01 08:26:00       2.75     17850.0  United Kingdom             0  \n",
       "3  2010-12-01 08:26:00       3.39     17850.0  United Kingdom             0  \n",
       "4  2010-12-01 08:26:00       3.39     17850.0  United Kingdom             0  "
      ]
     },
     "execution_count": 640,
     "metadata": {},
     "output_type": "execute_result"
    }
   ],
   "source": [
    "data.head()"
   ]
  },
  {
   "cell_type": "markdown",
   "metadata": {},
   "source": [
    "### 2.2 Missing data\n",
    "<a id=\"missing_data\"></a>\n",
    "The \"customerID\" column has around 25% missing data"
   ]
  },
  {
   "cell_type": "code",
   "execution_count": 101,
   "metadata": {},
   "outputs": [
    {
     "data": {
      "text/plain": [
       "<matplotlib.axes._subplots.AxesSubplot at 0x13c688f28>"
      ]
     },
     "execution_count": 101,
     "metadata": {},
     "output_type": "execute_result"
    },
    {
     "data": {
      "image/png": "[encoded data removed]",
      "text/plain": [
       "<Figure size 1800x720 with 2 Axes>"
      ]
     },
     "metadata": {},
     "output_type": "display_data"
    }
   ],
   "source": [
    "import missingno as msno\n",
    "msno.matrix(data)"
   ]
  },
  {
   "cell_type": "code",
   "execution_count": 102,
   "metadata": {},
   "outputs": [
    {
     "data": {
      "text/plain": [
       "<matplotlib.axes._subplots.AxesSubplot at 0x13c7dcb70>"
      ]
     },
     "execution_count": 102,
     "metadata": {},
     "output_type": "execute_result"
    },
    {
     "data": {
      "image/png": "[encoded data removed]",
      "text/plain": [
       "<Figure size 1728x720 with 3 Axes>"
      ]
     },
     "metadata": {},
     "output_type": "display_data"
    }
   ],
   "source": [
    "msno.bar(data)"
   ]
  },
  {
   "cell_type": "markdown",
   "metadata": {},
   "source": [
    "### 2.3 Unique entities\n",
    "<a id=\"unique_entities\"></a>"
   ]
  },
  {
   "cell_type": "code",
   "execution_count": 626,
   "metadata": {},
   "outputs": [
    {
     "name": "stdout",
     "output_type": "stream",
     "text": [
      "There are:\n",
      "    25900 unique transactions,\n",
      "    4070 unique products,\n",
      "    4372 unique customers,\n",
      "    38 unique countries\n"
     ]
    }
   ],
   "source": [
    "num_transactions = len(set(data.InvoiceNo))\n",
    "num_products = len(set(data.StockCode))\n",
    "num_customers = len(set(data.dropna().CustomerID))\n",
    "num_countries = len(set(data.Country))\n",
    "print('There are:\\n\\\n",
    "    {} unique transactions,\\n\\\n",
    "    {} unique products,\\n\\\n",
    "    {} unique customers,\\n\\\n",
    "    {} unique countries'.format(num_transactions,\n",
    "                                num_products,\n",
    "                                num_customers,\n",
    "                                num_countries))"
   ]
  },
  {
   "cell_type": "markdown",
   "metadata": {},
   "source": [
    "### 2.4 StockCode investigation\n",
    "<a id=\"stock_code\"></a>\n",
    "\n",
    "StockCode with same digial code followed by different character are different products (e.g. same product with different color). See the followng example:"
   ]
  },
  {
   "cell_type": "code",
   "execution_count": 641,
   "metadata": {},
   "outputs": [
    {
     "data": {
      "text/plain": [
       "{'BLUE POLKADOT GARDEN PARASOL', nan}"
      ]
     },
     "execution_count": 641,
     "metadata": {},
     "output_type": "execute_result"
    }
   ],
   "source": [
    "idx = data.index['15058A' == data['StockCode']]\n",
    "set(data.loc[idx]['Description'])"
   ]
  },
  {
   "cell_type": "code",
   "execution_count": 642,
   "metadata": {},
   "outputs": [
    {
     "data": {
      "text/plain": [
       "{'PINK POLKADOT GARDEN PARASOL'}"
      ]
     },
     "execution_count": 642,
     "metadata": {},
     "output_type": "execute_result"
    }
   ],
   "source": [
    "idx = data.index['15058B' == data['StockCode'] ]\n",
    "set(data.loc[idx]['Description'])"
   ]
  },
  {
   "cell_type": "markdown",
   "metadata": {},
   "source": [
    "---\n",
    "---\n",
    "## Q&A\n",
    "<a id=\"q&a\"></a>\n"
   ]
  },
  {
   "cell_type": "markdown",
   "metadata": {},
   "source": [
    "## Q1: Which products are often bought together?\n",
    "<a id=\"q1\"></a>\n",
    "To answer this question, I would like to contruct the sparse cooccurance matrix of products, which has unique stock code. \n",
    "\n",
    "To build such a matrix, we need to build a mapping from stock code to row/column index in the matrix. Then sort the tuple of (product#1, product#2, number of purchase where product#1 and product#2 appeared together)."
   ]
  },
  {
   "cell_type": "markdown",
   "metadata": {},
   "source": [
    "#### 1. Build the following three mappings:\n",
    "- a, mapping from stock code to index\n",
    "- b. mapping from invoice number to index\n",
    "- c. mapping from stock code to description\n",
    "\n",
    "Mapping **a** and **b** are used during the matrix contruction. Mapping **c** is used to make sense the result.\n"
   ]
  },
  {
   "cell_type": "code",
   "execution_count": 133,
   "metadata": {},
   "outputs": [],
   "source": [
    "unique_stock_code = list(set(data.StockCode))\n",
    "mapping_idx2stock_code = dict(enumerate(unique_stock_code))\n",
    "mapping_stock_code2idx = {v: k for k, v in mapping_idx2stock_code.items()}"
   ]
  },
  {
   "cell_type": "code",
   "execution_count": 134,
   "metadata": {},
   "outputs": [],
   "source": [
    "unique_invoice_number = list(set(data.InvoiceNo))\n",
    "mapping_idx2invoice_number = dict(enumerate(unique_invoice_number))\n",
    "mapping_invoice_number2idx = {v: k for k, v in mapping_idx2invoice_number.items()}"
   ]
  },
  {
   "cell_type": "code",
   "execution_count": 135,
   "metadata": {},
   "outputs": [],
   "source": [
    "mapping_stock_code2description = dict(zip(data.StockCode,data.Description))"
   ]
  },
  {
   "cell_type": "markdown",
   "metadata": {},
   "source": [
    "#### 2. Group stock code according to the invoice number. We assume each purchase has its own invoice number."
   ]
  },
  {
   "cell_type": "code",
   "execution_count": 136,
   "metadata": {},
   "outputs": [],
   "source": [
    "purchases = data[[\"InvoiceNo\",\"StockCode\"]].groupby(\"InvoiceNo\").agg({'StockCode':lambda x: list(x)})"
   ]
  },
  {
   "cell_type": "code",
   "execution_count": 137,
   "metadata": {},
   "outputs": [],
   "source": [
    "# map StockCode to their index, return array with invoice number, and list of StockCodeIndex\n",
    "vals = purchases.StockCode.apply(lambda purchase: list(map(lambda stock_code: mapping_stock_code2idx.get(stock_code), purchase))).reset_index().values\n",
    "# construct a tuple list of the form (invoice number index, stock_code_index, 1) \n",
    "invoice_stock_one = [(mapping_invoice_number2idx.get(row[0]), word, 1) for row in vals for word in row[1]]"
   ]
  },
  {
   "cell_type": "code",
   "execution_count": 138,
   "metadata": {},
   "outputs": [],
   "source": [
    "# Build sparse matrix\n",
    "import numpy as np\n",
    "from scipy.sparse import coo_matrix,triu\n",
    "\n",
    "rows, cols, val = map(np.array, zip(*invoice_stock_one))\n",
    "invoice_stock_matrix = coo_matrix((val, (rows, cols)))"
   ]
  },
  {
   "cell_type": "code",
   "execution_count": 212,
   "metadata": {},
   "outputs": [],
   "source": [
    "# co-occurence matrix\n",
    "ism = invoice_stock_matrix.tocsr()\n",
    "ismt = ism.transpose()\n",
    "co_oc = ismt*ism\n",
    "co_oc.setdiag(0)# ignore the count of purchases of a product\n",
    "co_oc.eliminate_zeros()"
   ]
  },
  {
   "cell_type": "code",
   "execution_count": 213,
   "metadata": {},
   "outputs": [],
   "source": [
    "# Construct output\n",
    "co_oc_out = co_oc.tocoo()\n",
    "co_oc_out = triu(co_oc_out,1) # to remove the duplicated pairs due to symmetry\n",
    "output = list(zip(zip(co_oc_out.row, co_oc_out.col), co_oc_out.data))"
   ]
  },
  {
   "cell_type": "code",
   "execution_count": 216,
   "metadata": {},
   "outputs": [],
   "source": [
    "output_translated = [((mapping_idx2stock_code.get(i),mapping_idx2stock_code.get(j)),v)for ((i,j),v) in output]"
   ]
  },
  {
   "cell_type": "code",
   "execution_count": 217,
   "metadata": {},
   "outputs": [],
   "source": [
    "output_translated.sort(key=lambda tup: tup[1],reverse=True)"
   ]
  },
  {
   "cell_type": "code",
   "execution_count": 218,
   "metadata": {},
   "outputs": [],
   "source": [
    "output_translated2description = [((mapping_stock_code2description.get(i),mapping_stock_code2description.get(j)),v)for ((i,j),v) in output_translated]"
   ]
  },
  {
   "cell_type": "code",
   "execution_count": null,
   "metadata": {},
   "outputs": [],
   "source": [
    "print(\"The top 10 pairs of products which are bought together most frequently are the following:\")\n",
    "output_translated2description[:10]"
   ]
  },
  {
   "cell_type": "markdown",
   "metadata": {},
   "source": [
    "#### 3. power-law distribution of the count of co occurance of products"
   ]
  },
  {
   "cell_type": "code",
   "execution_count": 219,
   "metadata": {},
   "outputs": [
    {
     "data": {
      "image/png": "[encoded data removed]",
      "text/plain": [
       "<Figure size 432x288 with 1 Axes>"
      ]
     },
     "metadata": {},
     "output_type": "display_data"
    }
   ],
   "source": [
    "from collections import Counter\n",
    "_,values = zip(*output_translated2description)\n",
    "c = Counter(values)\n",
    "# power law distribution of (coutry, product) counts\n",
    "plt.loglog(c.keys(),c.values(),'bo')\n",
    "plt.xlabel('unique number of combination with same number of occurance')\n",
    "plt.ylabel('the occurance number of unique number of combination ')\n",
    "plt.show()"
   ]
  },
  {
   "cell_type": "markdown",
   "metadata": {},
   "source": [
    "## Q2: How would you identify similar customers?\n",
    "<a id=\"q2\"></a>\n",
    "\n",
    "##### Main idea: \n",
    "\n",
    "- Step 1: First generate the matrix that store the count of purchase by certain customer on certain product, where rows corresponds to customer and columns corresponds to products(stock code). \n",
    "- Step 2: Then use the row of the matrix as the representation of the customer\n",
    "- Setp 3: use the cosince distance between representations of customers as the distance metrics\n",
    "\n",
    "##### Results:\n",
    "- Clustering customers with spectrual clustering algorithm with the pairwise similarity matrix of custommers (1- cosine distance matrix)\n",
    "- visualize the customers with PCA and T-SNE\n",
    "- A look up function to retrieve the top k similar customers to a provided customer"
   ]
  },
  {
   "cell_type": "markdown",
   "metadata": {},
   "source": [
    "#### 1. Construct the tuple list ((customer, product), number of purchase)"
   ]
  },
  {
   "cell_type": "code",
   "execution_count": 140,
   "metadata": {},
   "outputs": [],
   "source": [
    "data_dropna = data.dropna()"
   ]
  },
  {
   "cell_type": "code",
   "execution_count": 141,
   "metadata": {},
   "outputs": [],
   "source": [
    "unique_customer_id = set([int(id) for id in list(data_dropna.CustomerID)])"
   ]
  },
  {
   "cell_type": "code",
   "execution_count": 173,
   "metadata": {},
   "outputs": [],
   "source": [
    "mapping_customer_id2idx = {k: v for k, v in zip(unique_customer_id,range(len(unique_customer_id)))}\n",
    "mapping_idx2customer_id = {v: k for k, v in zip(unique_customer_id,range(len(unique_customer_id)))}"
   ]
  },
  {
   "cell_type": "code",
   "execution_count": 143,
   "metadata": {},
   "outputs": [],
   "source": [
    "customer_stock_one = [((mapping_customer_id2idx.get(c),mapping_stock_code2idx.get(s)) , 1) for (c,s) in zip(data_dropna.CustomerID,data_dropna.StockCode)]"
   ]
  },
  {
   "cell_type": "code",
   "execution_count": 203,
   "metadata": {},
   "outputs": [],
   "source": [
    "customer_stock_count = {}\n",
    "for ((customer,stock),val) in customer_stock_one:\n",
    "    if (customer,stock) not in customer_stock_count.keys():\n",
    "        customer_stock_count[(customer,stock)]=val\n",
    "    else:\n",
    "        customer_stock_count[(customer,stock)]+=val"
   ]
  },
  {
   "cell_type": "markdown",
   "metadata": {},
   "source": [
    "#### 2. Power law distribution of (coutry, product) counts"
   ]
  },
  {
   "cell_type": "code",
   "execution_count": 206,
   "metadata": {},
   "outputs": [
    {
     "data": {
      "image/png": "[encoded data removed]",
      "text/plain": [
       "<Figure size 432x288 with 1 Axes>"
      ]
     },
     "metadata": {},
     "output_type": "display_data"
    }
   ],
   "source": [
    "from collections import Counter\n",
    "\n",
    "c = Counter(customer_stock_count.values())\n",
    "\n",
    "plt.loglog(c.keys(),c.values(),'bo')\n",
    "plt.xlabel('unique number of combination with same number of occurance')\n",
    "plt.ylabel('the occurance number of unique number of combination ')\n",
    "plt.show()"
   ]
  },
  {
   "cell_type": "markdown",
   "metadata": {},
   "source": [
    "#### 3. construct the sparse matrix "
   ]
  },
  {
   "cell_type": "code",
   "execution_count": 145,
   "metadata": {},
   "outputs": [],
   "source": [
    "customer_stock_count = list(customer_stock_count.items())"
   ]
  },
  {
   "cell_type": "code",
   "execution_count": 146,
   "metadata": {},
   "outputs": [],
   "source": [
    "# Build sparse matrix\n",
    "import numpy as np\n",
    "from scipy.sparse import coo_matrix\n",
    "\n",
    "customer_stock, val= zip(*customer_stock_count)\n",
    "rows, cols  = map(np.array, zip(*customer_stock))\n",
    "val = np.array(val)\n",
    "customer_stock_matrix = coo_matrix((val, (rows, cols)))"
   ]
  },
  {
   "cell_type": "code",
   "execution_count": 126,
   "metadata": {},
   "outputs": [],
   "source": [
    "# co-occurence matrix\n",
    "csm = customer_stock_matrix.tocsr()\n",
    "csmt = csm.transpose()\n",
    "co_oc = csm*csmt"
   ]
  },
  {
   "cell_type": "code",
   "execution_count": 127,
   "metadata": {},
   "outputs": [],
   "source": [
    "customer_stock_matrix_dense = customer_stock_matrix.todense()"
   ]
  },
  {
   "cell_type": "markdown",
   "metadata": {},
   "source": [
    "#### 4. Clustering"
   ]
  },
  {
   "cell_type": "markdown",
   "metadata": {},
   "source": [
    "##### spectrual clustering"
   ]
  },
  {
   "cell_type": "code",
   "execution_count": 128,
   "metadata": {},
   "outputs": [],
   "source": [
    "from sklearn.metrics import pairwise_distances\n",
    "\n",
    "sub = customer_stock_matrix_dense\n",
    "distance_matrix = pairwise_distances(sub, sub, metric='cosine')\n",
    "similarity_matrix = distance_matrix"
   ]
  },
  {
   "cell_type": "code",
   "execution_count": 645,
   "metadata": {},
   "outputs": [
    {
     "ename": "KeyboardInterrupt",
     "evalue": "",
     "output_type": "error",
     "traceback": [
      "\u001b[0;31m---------------------------------------------------------------------------\u001b[0m",
      "\u001b[0;31mKeyboardInterrupt\u001b[0m                         Traceback (most recent call last)",
      "\u001b[0;32m<ipython-input-645-ab2ae89c6791>\u001b[0m in \u001b[0;36m<module>\u001b[0;34m()\u001b[0m\n\u001b[1;32m      5\u001b[0m                         assign_labels='discretize')\n\u001b[1;32m      6\u001b[0m \u001b[0;31m#clusters = sc.fit_predict(co_oc)\u001b[0m\u001b[0;34m\u001b[0m\u001b[0;34m\u001b[0m\u001b[0m\n\u001b[0;32m----> 7\u001b[0;31m \u001b[0mclusters\u001b[0m \u001b[0;34m=\u001b[0m \u001b[0msc\u001b[0m\u001b[0;34m.\u001b[0m\u001b[0mfit_predict\u001b[0m\u001b[0;34m(\u001b[0m\u001b[0msimilarity_matrix\u001b[0m\u001b[0;34m)\u001b[0m\u001b[0;34m\u001b[0m\u001b[0m\n\u001b[0m",
      "\u001b[0;32m~/miniconda3/lib/python3.6/site-packages/sklearn/base.py\u001b[0m in \u001b[0;36mfit_predict\u001b[0;34m(self, X, y)\u001b[0m\n\u001b[1;32m    408\u001b[0m         \u001b[0;31m# non-optimized default implementation; override when a better\u001b[0m\u001b[0;34m\u001b[0m\u001b[0;34m\u001b[0m\u001b[0m\n\u001b[1;32m    409\u001b[0m         \u001b[0;31m# method is possible for a given clustering algorithm\u001b[0m\u001b[0;34m\u001b[0m\u001b[0;34m\u001b[0m\u001b[0m\n\u001b[0;32m--> 410\u001b[0;31m         \u001b[0mself\u001b[0m\u001b[0;34m.\u001b[0m\u001b[0mfit\u001b[0m\u001b[0;34m(\u001b[0m\u001b[0mX\u001b[0m\u001b[0;34m)\u001b[0m\u001b[0;34m\u001b[0m\u001b[0m\n\u001b[0m\u001b[1;32m    411\u001b[0m         \u001b[0;32mreturn\u001b[0m \u001b[0mself\u001b[0m\u001b[0;34m.\u001b[0m\u001b[0mlabels_\u001b[0m\u001b[0;34m\u001b[0m\u001b[0m\n\u001b[1;32m    412\u001b[0m \u001b[0;34m\u001b[0m\u001b[0m\n",
      "\u001b[0;32m~/miniconda3/lib/python3.6/site-packages/sklearn/cluster/spectral.py\u001b[0m in \u001b[0;36mfit\u001b[0;34m(self, X, y)\u001b[0m\n\u001b[1;32m    470\u001b[0m                                            \u001b[0mn_init\u001b[0m\u001b[0;34m=\u001b[0m\u001b[0mself\u001b[0m\u001b[0;34m.\u001b[0m\u001b[0mn_init\u001b[0m\u001b[0;34m,\u001b[0m\u001b[0;34m\u001b[0m\u001b[0m\n\u001b[1;32m    471\u001b[0m                                            \u001b[0meigen_tol\u001b[0m\u001b[0;34m=\u001b[0m\u001b[0mself\u001b[0m\u001b[0;34m.\u001b[0m\u001b[0meigen_tol\u001b[0m\u001b[0;34m,\u001b[0m\u001b[0;34m\u001b[0m\u001b[0m\n\u001b[0;32m--> 472\u001b[0;31m                                            assign_labels=self.assign_labels)\n\u001b[0m\u001b[1;32m    473\u001b[0m         \u001b[0;32mreturn\u001b[0m \u001b[0mself\u001b[0m\u001b[0;34m\u001b[0m\u001b[0m\n\u001b[1;32m    474\u001b[0m \u001b[0;34m\u001b[0m\u001b[0m\n",
      "\u001b[0;32m~/miniconda3/lib/python3.6/site-packages/sklearn/cluster/spectral.py\u001b[0m in \u001b[0;36mspectral_clustering\u001b[0;34m(affinity, n_clusters, n_components, eigen_solver, random_state, n_init, eigen_tol, assign_labels)\u001b[0m\n\u001b[1;32m    260\u001b[0m                               \u001b[0meigen_solver\u001b[0m\u001b[0;34m=\u001b[0m\u001b[0meigen_solver\u001b[0m\u001b[0;34m,\u001b[0m\u001b[0;34m\u001b[0m\u001b[0m\n\u001b[1;32m    261\u001b[0m                               \u001b[0mrandom_state\u001b[0m\u001b[0;34m=\u001b[0m\u001b[0mrandom_state\u001b[0m\u001b[0;34m,\u001b[0m\u001b[0;34m\u001b[0m\u001b[0m\n\u001b[0;32m--> 262\u001b[0;31m                               eigen_tol=eigen_tol, drop_first=False)\n\u001b[0m\u001b[1;32m    263\u001b[0m \u001b[0;34m\u001b[0m\u001b[0m\n\u001b[1;32m    264\u001b[0m     \u001b[0;32mif\u001b[0m \u001b[0massign_labels\u001b[0m \u001b[0;34m==\u001b[0m \u001b[0;34m'kmeans'\u001b[0m\u001b[0;34m:\u001b[0m\u001b[0;34m\u001b[0m\u001b[0m\n",
      "\u001b[0;32m~/miniconda3/lib/python3.6/site-packages/sklearn/manifold/spectral_embedding_.py\u001b[0m in \u001b[0;36mspectral_embedding\u001b[0;34m(adjacency, n_components, eigen_solver, random_state, eigen_tol, norm_laplacian, drop_first)\u001b[0m\n\u001b[1;32m    268\u001b[0m             lambdas, diffusion_map = eigsh(laplacian, k=n_components,\n\u001b[1;32m    269\u001b[0m                                            \u001b[0msigma\u001b[0m\u001b[0;34m=\u001b[0m\u001b[0;36m1.0\u001b[0m\u001b[0;34m,\u001b[0m \u001b[0mwhich\u001b[0m\u001b[0;34m=\u001b[0m\u001b[0;34m'LM'\u001b[0m\u001b[0;34m,\u001b[0m\u001b[0;34m\u001b[0m\u001b[0m\n\u001b[0;32m--> 270\u001b[0;31m                                            tol=eigen_tol, v0=v0)\n\u001b[0m\u001b[1;32m    271\u001b[0m             \u001b[0membedding\u001b[0m \u001b[0;34m=\u001b[0m \u001b[0mdiffusion_map\u001b[0m\u001b[0;34m.\u001b[0m\u001b[0mT\u001b[0m\u001b[0;34m[\u001b[0m\u001b[0mn_components\u001b[0m\u001b[0;34m:\u001b[0m\u001b[0;34m:\u001b[0m\u001b[0;34m-\u001b[0m\u001b[0;36m1\u001b[0m\u001b[0;34m]\u001b[0m \u001b[0;34m*\u001b[0m \u001b[0mdd\u001b[0m\u001b[0;34m\u001b[0m\u001b[0m\n\u001b[1;32m    272\u001b[0m         \u001b[0;32mexcept\u001b[0m \u001b[0mRuntimeError\u001b[0m\u001b[0;34m:\u001b[0m\u001b[0;34m\u001b[0m\u001b[0m\n",
      "\u001b[0;32m~/miniconda3/lib/python3.6/site-packages/scipy/sparse/linalg/eigen/arpack/arpack.py\u001b[0m in \u001b[0;36meigsh\u001b[0;34m(A, k, M, sigma, which, v0, ncv, maxiter, tol, return_eigenvectors, Minv, OPinv, mode)\u001b[0m\n\u001b[1;32m   1649\u001b[0m     \u001b[0;32mwith\u001b[0m \u001b[0m_ARPACK_LOCK\u001b[0m\u001b[0;34m:\u001b[0m\u001b[0;34m\u001b[0m\u001b[0m\n\u001b[1;32m   1650\u001b[0m         \u001b[0;32mwhile\u001b[0m \u001b[0;32mnot\u001b[0m \u001b[0mparams\u001b[0m\u001b[0;34m.\u001b[0m\u001b[0mconverged\u001b[0m\u001b[0;34m:\u001b[0m\u001b[0;34m\u001b[0m\u001b[0m\n\u001b[0;32m-> 1651\u001b[0;31m             \u001b[0mparams\u001b[0m\u001b[0;34m.\u001b[0m\u001b[0miterate\u001b[0m\u001b[0;34m(\u001b[0m\u001b[0;34m)\u001b[0m\u001b[0;34m\u001b[0m\u001b[0m\n\u001b[0m\u001b[1;32m   1652\u001b[0m \u001b[0;34m\u001b[0m\u001b[0m\n\u001b[1;32m   1653\u001b[0m         \u001b[0;32mreturn\u001b[0m \u001b[0mparams\u001b[0m\u001b[0;34m.\u001b[0m\u001b[0mextract\u001b[0m\u001b[0;34m(\u001b[0m\u001b[0mreturn_eigenvectors\u001b[0m\u001b[0;34m)\u001b[0m\u001b[0;34m\u001b[0m\u001b[0m\n",
      "\u001b[0;32m~/miniconda3/lib/python3.6/site-packages/scipy/sparse/linalg/eigen/arpack/arpack.py\u001b[0m in \u001b[0;36miterate\u001b[0;34m(self)\u001b[0m\n\u001b[1;32m    557\u001b[0m             \u001b[0;32melse\u001b[0m\u001b[0;34m:\u001b[0m\u001b[0;34m\u001b[0m\u001b[0m\n\u001b[1;32m    558\u001b[0m                 \u001b[0mBxslice\u001b[0m \u001b[0;34m=\u001b[0m \u001b[0mslice\u001b[0m\u001b[0;34m(\u001b[0m\u001b[0mself\u001b[0m\u001b[0;34m.\u001b[0m\u001b[0mipntr\u001b[0m\u001b[0;34m[\u001b[0m\u001b[0;36m2\u001b[0m\u001b[0;34m]\u001b[0m \u001b[0;34m-\u001b[0m \u001b[0;36m1\u001b[0m\u001b[0;34m,\u001b[0m \u001b[0mself\u001b[0m\u001b[0;34m.\u001b[0m\u001b[0mipntr\u001b[0m\u001b[0;34m[\u001b[0m\u001b[0;36m2\u001b[0m\u001b[0;34m]\u001b[0m \u001b[0;34m-\u001b[0m \u001b[0;36m1\u001b[0m \u001b[0;34m+\u001b[0m \u001b[0mself\u001b[0m\u001b[0;34m.\u001b[0m\u001b[0mn\u001b[0m\u001b[0;34m)\u001b[0m\u001b[0;34m\u001b[0m\u001b[0m\n\u001b[0;32m--> 559\u001b[0;31m                 \u001b[0mself\u001b[0m\u001b[0;34m.\u001b[0m\u001b[0mworkd\u001b[0m\u001b[0;34m[\u001b[0m\u001b[0myslice\u001b[0m\u001b[0;34m]\u001b[0m \u001b[0;34m=\u001b[0m \u001b[0mself\u001b[0m\u001b[0;34m.\u001b[0m\u001b[0mOPa\u001b[0m\u001b[0;34m(\u001b[0m\u001b[0mself\u001b[0m\u001b[0;34m.\u001b[0m\u001b[0mworkd\u001b[0m\u001b[0;34m[\u001b[0m\u001b[0mBxslice\u001b[0m\u001b[0;34m]\u001b[0m\u001b[0;34m)\u001b[0m\u001b[0;34m\u001b[0m\u001b[0m\n\u001b[0m\u001b[1;32m    560\u001b[0m         \u001b[0;32melif\u001b[0m \u001b[0mself\u001b[0m\u001b[0;34m.\u001b[0m\u001b[0mido\u001b[0m \u001b[0;34m==\u001b[0m \u001b[0;36m2\u001b[0m\u001b[0;34m:\u001b[0m\u001b[0;34m\u001b[0m\u001b[0m\n\u001b[1;32m    561\u001b[0m             \u001b[0mself\u001b[0m\u001b[0;34m.\u001b[0m\u001b[0mworkd\u001b[0m\u001b[0;34m[\u001b[0m\u001b[0myslice\u001b[0m\u001b[0;34m]\u001b[0m \u001b[0;34m=\u001b[0m \u001b[0mself\u001b[0m\u001b[0;34m.\u001b[0m\u001b[0mB\u001b[0m\u001b[0;34m(\u001b[0m\u001b[0mself\u001b[0m\u001b[0;34m.\u001b[0m\u001b[0mworkd\u001b[0m\u001b[0;34m[\u001b[0m\u001b[0mxslice\u001b[0m\u001b[0;34m]\u001b[0m\u001b[0;34m)\u001b[0m\u001b[0;34m\u001b[0m\u001b[0m\n",
      "\u001b[0;32m~/miniconda3/lib/python3.6/site-packages/scipy/sparse/linalg/interface.py\u001b[0m in \u001b[0;36mmatvec\u001b[0;34m(self, x)\u001b[0m\n\u001b[1;32m    217\u001b[0m             \u001b[0;32mraise\u001b[0m \u001b[0mValueError\u001b[0m\u001b[0;34m(\u001b[0m\u001b[0;34m'dimension mismatch'\u001b[0m\u001b[0;34m)\u001b[0m\u001b[0;34m\u001b[0m\u001b[0m\n\u001b[1;32m    218\u001b[0m \u001b[0;34m\u001b[0m\u001b[0m\n\u001b[0;32m--> 219\u001b[0;31m         \u001b[0my\u001b[0m \u001b[0;34m=\u001b[0m \u001b[0mself\u001b[0m\u001b[0;34m.\u001b[0m\u001b[0m_matvec\u001b[0m\u001b[0;34m(\u001b[0m\u001b[0mx\u001b[0m\u001b[0;34m)\u001b[0m\u001b[0;34m\u001b[0m\u001b[0m\n\u001b[0m\u001b[1;32m    220\u001b[0m \u001b[0;34m\u001b[0m\u001b[0m\n\u001b[1;32m    221\u001b[0m         \u001b[0;32mif\u001b[0m \u001b[0misinstance\u001b[0m\u001b[0;34m(\u001b[0m\u001b[0mx\u001b[0m\u001b[0;34m,\u001b[0m \u001b[0mnp\u001b[0m\u001b[0;34m.\u001b[0m\u001b[0mmatrix\u001b[0m\u001b[0;34m)\u001b[0m\u001b[0;34m:\u001b[0m\u001b[0;34m\u001b[0m\u001b[0m\n",
      "\u001b[0;32m~/miniconda3/lib/python3.6/site-packages/scipy/sparse/linalg/eigen/arpack/arpack.py\u001b[0m in \u001b[0;36m_matvec\u001b[0;34m(self, x)\u001b[0m\n\u001b[1;32m    934\u001b[0m \u001b[0;34m\u001b[0m\u001b[0m\n\u001b[1;32m    935\u001b[0m     \u001b[0;32mdef\u001b[0m \u001b[0m_matvec\u001b[0m\u001b[0;34m(\u001b[0m\u001b[0mself\u001b[0m\u001b[0;34m,\u001b[0m \u001b[0mx\u001b[0m\u001b[0;34m)\u001b[0m\u001b[0;34m:\u001b[0m\u001b[0;34m\u001b[0m\u001b[0m\n\u001b[0;32m--> 936\u001b[0;31m         \u001b[0;32mreturn\u001b[0m \u001b[0mlu_solve\u001b[0m\u001b[0;34m(\u001b[0m\u001b[0mself\u001b[0m\u001b[0;34m.\u001b[0m\u001b[0mM_lu\u001b[0m\u001b[0;34m,\u001b[0m \u001b[0mx\u001b[0m\u001b[0;34m)\u001b[0m\u001b[0;34m\u001b[0m\u001b[0m\n\u001b[0m\u001b[1;32m    937\u001b[0m \u001b[0;34m\u001b[0m\u001b[0m\n\u001b[1;32m    938\u001b[0m \u001b[0;34m\u001b[0m\u001b[0m\n",
      "\u001b[0;32m~/miniconda3/lib/python3.6/site-packages/scipy/linalg/decomp_lu.py\u001b[0m in \u001b[0;36mlu_solve\u001b[0;34m(lu_and_piv, b, trans, overwrite_b, check_finite)\u001b[0m\n\u001b[1;32m    144\u001b[0m \u001b[0;34m\u001b[0m\u001b[0m\n\u001b[1;32m    145\u001b[0m     \u001b[0mgetrs\u001b[0m\u001b[0;34m,\u001b[0m \u001b[0;34m=\u001b[0m \u001b[0mget_lapack_funcs\u001b[0m\u001b[0;34m(\u001b[0m\u001b[0;34m(\u001b[0m\u001b[0;34m'getrs'\u001b[0m\u001b[0;34m,\u001b[0m\u001b[0;34m)\u001b[0m\u001b[0;34m,\u001b[0m \u001b[0;34m(\u001b[0m\u001b[0mlu\u001b[0m\u001b[0;34m,\u001b[0m \u001b[0mb1\u001b[0m\u001b[0;34m)\u001b[0m\u001b[0;34m)\u001b[0m\u001b[0;34m\u001b[0m\u001b[0m\n\u001b[0;32m--> 146\u001b[0;31m     \u001b[0mx\u001b[0m\u001b[0;34m,\u001b[0m \u001b[0minfo\u001b[0m \u001b[0;34m=\u001b[0m \u001b[0mgetrs\u001b[0m\u001b[0;34m(\u001b[0m\u001b[0mlu\u001b[0m\u001b[0;34m,\u001b[0m \u001b[0mpiv\u001b[0m\u001b[0;34m,\u001b[0m \u001b[0mb1\u001b[0m\u001b[0;34m,\u001b[0m \u001b[0mtrans\u001b[0m\u001b[0;34m=\u001b[0m\u001b[0mtrans\u001b[0m\u001b[0;34m,\u001b[0m \u001b[0moverwrite_b\u001b[0m\u001b[0;34m=\u001b[0m\u001b[0moverwrite_b\u001b[0m\u001b[0;34m)\u001b[0m\u001b[0;34m\u001b[0m\u001b[0m\n\u001b[0m\u001b[1;32m    147\u001b[0m     \u001b[0;32mif\u001b[0m \u001b[0minfo\u001b[0m \u001b[0;34m==\u001b[0m \u001b[0;36m0\u001b[0m\u001b[0;34m:\u001b[0m\u001b[0;34m\u001b[0m\u001b[0m\n\u001b[1;32m    148\u001b[0m         \u001b[0;32mreturn\u001b[0m \u001b[0mx\u001b[0m\u001b[0;34m\u001b[0m\u001b[0m\n",
      "\u001b[0;31mKeyboardInterrupt\u001b[0m: "
     ]
    }
   ],
   "source": [
    "from sklearn.cluster import SpectralClustering\n",
    "\n",
    "sc = SpectralClustering(3, \n",
    "                        affinity='precomputed', \n",
    "                        n_init=100,\n",
    "                        assign_labels='discretize') \n",
    "clusters = sc.fit_predict(similarity_matrix) \n"
   ]
  },
  {
   "cell_type": "markdown",
   "metadata": {},
   "source": [
    "#### 5 Visualization of customer relationship"
   ]
  },
  {
   "cell_type": "markdown",
   "metadata": {},
   "source": [
    "##### a. PCA visualization\n"
   ]
  },
  {
   "cell_type": "code",
   "execution_count": 646,
   "metadata": {},
   "outputs": [
    {
     "name": "stdout",
     "output_type": "stream",
     "text": [
      "Explained variation per principal component: [0.18993407 0.05533258]\n"
     ]
    }
   ],
   "source": [
    "from sklearn.decomposition import PCA\n",
    "\n",
    "pca = PCA(n_components=2)\n",
    "pca_result = pca.fit_transform(customer_stock_matrix_dense)\n",
    "\n",
    "x_pca = pca_result[:,0]\n",
    "y_pca = pca_result[:,1] \n",
    "\n",
    "\n",
    "print('Explained variation per principal component: {}'.format(pca.explained_variance_ratio_))\n"
   ]
  },
  {
   "cell_type": "code",
   "execution_count": 647,
   "metadata": {},
   "outputs": [
    {
     "data": {
      "image/png": "[encoded data removed]",
      "text/plain": [
       "<Figure size 3600x3600 with 1 Axes>"
      ]
     },
     "metadata": {},
     "output_type": "display_data"
    }
   ],
   "source": [
    "import matplotlib.pyplot as plt\n",
    "fig, ax = plt.subplots(figsize=(50,50))\n",
    "ax.scatter(x_pca, y_pca, c=clusters, cmap=plt.cm.cool,s=20)\n",
    "\n",
    "for i, txt in enumerate(unique_customer_id):\n",
    "    ax.annotate(txt, (x_pca[i], y_pca[i]),size=20)"
   ]
  },
  {
   "cell_type": "markdown",
   "metadata": {},
   "source": [
    "##### b. TSNE visualization"
   ]
  },
  {
   "cell_type": "code",
   "execution_count": 648,
   "metadata": {},
   "outputs": [
    {
     "name": "stdout",
     "output_type": "stream",
     "text": [
      "[t-SNE] Computing 301 nearest neighbors...\n",
      "[t-SNE] Indexed 4372 samples in 0.011s...\n",
      "[t-SNE] Computed neighbors for 4372 samples in 0.430s...\n",
      "[t-SNE] Computed conditional probabilities for sample 1000 / 4372\n",
      "[t-SNE] Computed conditional probabilities for sample 2000 / 4372\n",
      "[t-SNE] Computed conditional probabilities for sample 3000 / 4372\n",
      "[t-SNE] Computed conditional probabilities for sample 4000 / 4372\n",
      "[t-SNE] Computed conditional probabilities for sample 4372 / 4372\n",
      "[t-SNE] Mean sigma: 0.204314\n",
      "[t-SNE] KL divergence after 250 iterations with early exaggeration: 72.943741\n"
     ]
    },
    {
     "ename": "KeyboardInterrupt",
     "evalue": "",
     "output_type": "error",
     "traceback": [
      "\u001b[0;31m---------------------------------------------------------------------------\u001b[0m",
      "\u001b[0;31mKeyboardInterrupt\u001b[0m                         Traceback (most recent call last)",
      "\u001b[0;32m<ipython-input-648-89766b964d92>\u001b[0m in \u001b[0;36m<module>\u001b[0;34m()\u001b[0m\n\u001b[1;32m      5\u001b[0m \u001b[0mtime_start\u001b[0m \u001b[0;34m=\u001b[0m \u001b[0mtime\u001b[0m\u001b[0;34m.\u001b[0m\u001b[0mtime\u001b[0m\u001b[0;34m(\u001b[0m\u001b[0;34m)\u001b[0m\u001b[0;34m\u001b[0m\u001b[0m\n\u001b[1;32m      6\u001b[0m \u001b[0mtsne\u001b[0m \u001b[0;34m=\u001b[0m \u001b[0mTSNE\u001b[0m\u001b[0;34m(\u001b[0m\u001b[0mn_components\u001b[0m\u001b[0;34m=\u001b[0m\u001b[0;36m2\u001b[0m\u001b[0;34m,\u001b[0m \u001b[0mverbose\u001b[0m\u001b[0;34m=\u001b[0m\u001b[0;36m1\u001b[0m\u001b[0;34m,\u001b[0m \u001b[0mperplexity\u001b[0m\u001b[0;34m=\u001b[0m\u001b[0;36m100\u001b[0m\u001b[0;34m,\u001b[0m \u001b[0mn_iter\u001b[0m\u001b[0;34m=\u001b[0m\u001b[0;36m5000\u001b[0m\u001b[0;34m,\u001b[0m \u001b[0mmetric\u001b[0m\u001b[0;34m=\u001b[0m\u001b[0;34m\"precomputed\"\u001b[0m\u001b[0;34m)\u001b[0m\u001b[0;34m\u001b[0m\u001b[0m\n\u001b[0;32m----> 7\u001b[0;31m \u001b[0mtsne_results\u001b[0m \u001b[0;34m=\u001b[0m \u001b[0mtsne\u001b[0m\u001b[0;34m.\u001b[0m\u001b[0mfit_transform\u001b[0m\u001b[0;34m(\u001b[0m\u001b[0mdistance_matrix\u001b[0m\u001b[0;34m)\u001b[0m\u001b[0;34m\u001b[0m\u001b[0m\n\u001b[0m\u001b[1;32m      8\u001b[0m \u001b[0;34m\u001b[0m\u001b[0m\n\u001b[1;32m      9\u001b[0m \u001b[0;34m\u001b[0m\u001b[0m\n",
      "\u001b[0;32m~/miniconda3/lib/python3.6/site-packages/sklearn/manifold/t_sne.py\u001b[0m in \u001b[0;36mfit_transform\u001b[0;34m(self, X, y)\u001b[0m\n\u001b[1;32m    856\u001b[0m             \u001b[0mEmbedding\u001b[0m \u001b[0mof\u001b[0m \u001b[0mthe\u001b[0m \u001b[0mtraining\u001b[0m \u001b[0mdata\u001b[0m \u001b[0;32min\u001b[0m \u001b[0mlow\u001b[0m\u001b[0;34m-\u001b[0m\u001b[0mdimensional\u001b[0m \u001b[0mspace\u001b[0m\u001b[0;34m.\u001b[0m\u001b[0;34m\u001b[0m\u001b[0m\n\u001b[1;32m    857\u001b[0m         \"\"\"\n\u001b[0;32m--> 858\u001b[0;31m         \u001b[0membedding\u001b[0m \u001b[0;34m=\u001b[0m \u001b[0mself\u001b[0m\u001b[0;34m.\u001b[0m\u001b[0m_fit\u001b[0m\u001b[0;34m(\u001b[0m\u001b[0mX\u001b[0m\u001b[0;34m)\u001b[0m\u001b[0;34m\u001b[0m\u001b[0m\n\u001b[0m\u001b[1;32m    859\u001b[0m         \u001b[0mself\u001b[0m\u001b[0;34m.\u001b[0m\u001b[0membedding_\u001b[0m \u001b[0;34m=\u001b[0m \u001b[0membedding\u001b[0m\u001b[0;34m\u001b[0m\u001b[0m\n\u001b[1;32m    860\u001b[0m         \u001b[0;32mreturn\u001b[0m \u001b[0mself\u001b[0m\u001b[0;34m.\u001b[0m\u001b[0membedding_\u001b[0m\u001b[0;34m\u001b[0m\u001b[0m\n",
      "\u001b[0;32m~/miniconda3/lib/python3.6/site-packages/sklearn/manifold/t_sne.py\u001b[0m in \u001b[0;36m_fit\u001b[0;34m(self, X, skip_num_points)\u001b[0m\n\u001b[1;32m    768\u001b[0m                           \u001b[0mX_embedded\u001b[0m\u001b[0;34m=\u001b[0m\u001b[0mX_embedded\u001b[0m\u001b[0;34m,\u001b[0m\u001b[0;34m\u001b[0m\u001b[0m\n\u001b[1;32m    769\u001b[0m                           \u001b[0mneighbors\u001b[0m\u001b[0;34m=\u001b[0m\u001b[0mneighbors_nn\u001b[0m\u001b[0;34m,\u001b[0m\u001b[0;34m\u001b[0m\u001b[0m\n\u001b[0;32m--> 770\u001b[0;31m                           skip_num_points=skip_num_points)\n\u001b[0m\u001b[1;32m    771\u001b[0m \u001b[0;34m\u001b[0m\u001b[0m\n\u001b[1;32m    772\u001b[0m     \u001b[0;34m@\u001b[0m\u001b[0mproperty\u001b[0m\u001b[0;34m\u001b[0m\u001b[0m\n",
      "\u001b[0;32m~/miniconda3/lib/python3.6/site-packages/sklearn/manifold/t_sne.py\u001b[0m in \u001b[0;36m_tsne\u001b[0;34m(self, P, degrees_of_freedom, n_samples, X_embedded, neighbors, skip_num_points)\u001b[0m\n\u001b[1;32m    825\u001b[0m             \u001b[0mopt_args\u001b[0m\u001b[0;34m[\u001b[0m\u001b[0;34m'n_iter_without_progress'\u001b[0m\u001b[0;34m]\u001b[0m \u001b[0;34m=\u001b[0m \u001b[0mself\u001b[0m\u001b[0;34m.\u001b[0m\u001b[0mn_iter_without_progress\u001b[0m\u001b[0;34m\u001b[0m\u001b[0m\n\u001b[1;32m    826\u001b[0m             params, kl_divergence, it = _gradient_descent(obj_func, params,\n\u001b[0;32m--> 827\u001b[0;31m                                                           **opt_args)\n\u001b[0m\u001b[1;32m    828\u001b[0m \u001b[0;34m\u001b[0m\u001b[0m\n\u001b[1;32m    829\u001b[0m         \u001b[0;31m# Save the final number of iterations\u001b[0m\u001b[0;34m\u001b[0m\u001b[0;34m\u001b[0m\u001b[0m\n",
      "\u001b[0;32m~/miniconda3/lib/python3.6/site-packages/sklearn/manifold/t_sne.py\u001b[0m in \u001b[0;36m_gradient_descent\u001b[0;34m(objective, p0, it, n_iter, n_iter_check, n_iter_without_progress, momentum, learning_rate, min_gain, min_grad_norm, verbose, args, kwargs)\u001b[0m\n\u001b[1;32m    337\u001b[0m     \u001b[0mtic\u001b[0m \u001b[0;34m=\u001b[0m \u001b[0mtime\u001b[0m\u001b[0;34m(\u001b[0m\u001b[0;34m)\u001b[0m\u001b[0;34m\u001b[0m\u001b[0m\n\u001b[1;32m    338\u001b[0m     \u001b[0;32mfor\u001b[0m \u001b[0mi\u001b[0m \u001b[0;32min\u001b[0m \u001b[0mrange\u001b[0m\u001b[0;34m(\u001b[0m\u001b[0mit\u001b[0m\u001b[0;34m,\u001b[0m \u001b[0mn_iter\u001b[0m\u001b[0;34m)\u001b[0m\u001b[0;34m:\u001b[0m\u001b[0;34m\u001b[0m\u001b[0m\n\u001b[0;32m--> 339\u001b[0;31m         \u001b[0merror\u001b[0m\u001b[0;34m,\u001b[0m \u001b[0mgrad\u001b[0m \u001b[0;34m=\u001b[0m \u001b[0mobjective\u001b[0m\u001b[0;34m(\u001b[0m\u001b[0mp\u001b[0m\u001b[0;34m,\u001b[0m \u001b[0;34m*\u001b[0m\u001b[0margs\u001b[0m\u001b[0;34m,\u001b[0m \u001b[0;34m**\u001b[0m\u001b[0mkwargs\u001b[0m\u001b[0;34m)\u001b[0m\u001b[0;34m\u001b[0m\u001b[0m\n\u001b[0m\u001b[1;32m    340\u001b[0m         \u001b[0mgrad_norm\u001b[0m \u001b[0;34m=\u001b[0m \u001b[0mlinalg\u001b[0m\u001b[0;34m.\u001b[0m\u001b[0mnorm\u001b[0m\u001b[0;34m(\u001b[0m\u001b[0mgrad\u001b[0m\u001b[0;34m)\u001b[0m\u001b[0;34m\u001b[0m\u001b[0m\n\u001b[1;32m    341\u001b[0m \u001b[0;34m\u001b[0m\u001b[0m\n",
      "\u001b[0;32m~/miniconda3/lib/python3.6/site-packages/sklearn/manifold/t_sne.py\u001b[0m in \u001b[0;36m_kl_divergence_bh\u001b[0;34m(params, P, degrees_of_freedom, n_samples, n_components, angle, skip_num_points, verbose)\u001b[0m\n\u001b[1;32m    245\u001b[0m     error = _barnes_hut_tsne.gradient(val_P, X_embedded, neighbors, indptr,\n\u001b[1;32m    246\u001b[0m                                       \u001b[0mgrad\u001b[0m\u001b[0;34m,\u001b[0m \u001b[0mangle\u001b[0m\u001b[0;34m,\u001b[0m \u001b[0mn_components\u001b[0m\u001b[0;34m,\u001b[0m \u001b[0mverbose\u001b[0m\u001b[0;34m,\u001b[0m\u001b[0;34m\u001b[0m\u001b[0m\n\u001b[0;32m--> 247\u001b[0;31m                                       dof=degrees_of_freedom)\n\u001b[0m\u001b[1;32m    248\u001b[0m     \u001b[0mc\u001b[0m \u001b[0;34m=\u001b[0m \u001b[0;36m2.0\u001b[0m \u001b[0;34m*\u001b[0m \u001b[0;34m(\u001b[0m\u001b[0mdegrees_of_freedom\u001b[0m \u001b[0;34m+\u001b[0m \u001b[0;36m1.0\u001b[0m\u001b[0;34m)\u001b[0m \u001b[0;34m/\u001b[0m \u001b[0mdegrees_of_freedom\u001b[0m\u001b[0;34m\u001b[0m\u001b[0m\n\u001b[1;32m    249\u001b[0m     \u001b[0mgrad\u001b[0m \u001b[0;34m=\u001b[0m \u001b[0mgrad\u001b[0m\u001b[0;34m.\u001b[0m\u001b[0mravel\u001b[0m\u001b[0;34m(\u001b[0m\u001b[0;34m)\u001b[0m\u001b[0;34m\u001b[0m\u001b[0m\n",
      "\u001b[0;31mKeyboardInterrupt\u001b[0m: "
     ]
    }
   ],
   "source": [
    "import time\n",
    "\n",
    "from sklearn.manifold import TSNE\n",
    "\n",
    "time_start = time.time()\n",
    "tsne = TSNE(n_components=2, verbose=1, perplexity=100, n_iter=5000, metric=\"precomputed\")\n",
    "tsne_results = tsne.fit_transform(distance_matrix)\n",
    "\n",
    "\n",
    "print('t-SNE done! Time elapsed: {} seconds'.format(time.time()-time_start))"
   ]
  },
  {
   "cell_type": "code",
   "execution_count": null,
   "metadata": {},
   "outputs": [],
   "source": [
    "import matplotlib.pyplot as plt\n",
    "x_tsne= tsne_results[:,0]\n",
    "y_tsne = tsne_results[:,1]\n",
    "\n",
    "\n",
    "fig, ax = plt.subplots(figsize=(50,50))\n",
    "#ax.set_figure(figsize=(100,100))\n",
    "ax.scatter(x_tsne, y_tsne, c=clusters, cmap=plt.cm.cool,s=20)\n",
    "\n",
    "for i, txt in enumerate(unique_customer_id):\n",
    "    ax.annotate(txt, (x_tsne[i], y_tsne[i]),size=20)"
   ]
  },
  {
   "cell_type": "markdown",
   "metadata": {},
   "source": [
    "#### 6. Look up function to get most similar customer given one customer"
   ]
  },
  {
   "cell_type": "code",
   "execution_count": null,
   "metadata": {},
   "outputs": [],
   "source": [
    "def lookup_most_similar_customer(customer_id, k=10):\n",
    "    c_idx = mapping_customer_id2idx(customer_id)\n",
    "    similarity_matrix[]"
   ]
  },
  {
   "cell_type": "markdown",
   "metadata": {},
   "source": [
    "## Q3.1: \n",
    "## Create a predictive model to estimate the probability that an order is cancelled. Therefor validate and tune three models of your choice.\n",
    "<a id=\"q31\"></a>"
   ]
  },
  {
   "cell_type": "code",
   "execution_count": 139,
   "metadata": {},
   "outputs": [],
   "source": [
    "ism = invoice_stock_matrix.tocsr()\n",
    "sim = ism.transpose()\n",
    "ssm = sim*ism"
   ]
  },
  {
   "cell_type": "code",
   "execution_count": 147,
   "metadata": {},
   "outputs": [],
   "source": [
    "csm = customer_stock_matrix.tocsr()\n",
    "scm = csm.transpose()"
   ]
  },
  {
   "cell_type": "markdown",
   "metadata": {},
   "source": [
    "#### construct stock code to country coocurance matrix"
   ]
  },
  {
   "cell_type": "code",
   "execution_count": 152,
   "metadata": {},
   "outputs": [],
   "source": [
    "unique_countries = set(list(data.Country))"
   ]
  },
  {
   "cell_type": "code",
   "execution_count": 174,
   "metadata": {},
   "outputs": [],
   "source": [
    "mapping_country2idx = {k: v for k, v in zip(unique_countries,range(len(unique_countries)))}\n",
    "mapping_idx2country = {v: k for k, v in zip(unique_countries,range(len(unique_countries)))}"
   ]
  },
  {
   "cell_type": "code",
   "execution_count": 155,
   "metadata": {},
   "outputs": [],
   "source": [
    "country_stock_one = [((mapping_country2idx.get(c),mapping_stock_code2idx.get(s)) , 1) for (c,s) in zip(data.Country,data.StockCode)]"
   ]
  },
  {
   "cell_type": "code",
   "execution_count": 186,
   "metadata": {},
   "outputs": [],
   "source": [
    "country_stock_count = {}\n",
    "for ((country,stock),val) in country_stock_one:\n",
    "    if (country,stock) not in country_stock_count.keys():\n",
    "        country_stock_count[(country,stock)]=val\n",
    "    else:\n",
    "        country_stock_count[(country,stock)]+=val"
   ]
  },
  {
   "cell_type": "code",
   "execution_count": 164,
   "metadata": {},
   "outputs": [],
   "source": [
    "country_stock_count = list(country_stock_count.items())"
   ]
  },
  {
   "cell_type": "code",
   "execution_count": 202,
   "metadata": {},
   "outputs": [
    {
     "data": {
      "image/png": "[encoded data removed]",
      "text/plain": [
       "<Figure size 432x288 with 1 Axes>"
      ]
     },
     "metadata": {},
     "output_type": "display_data"
    }
   ],
   "source": [
    "from collections import Counter\n",
    "\n",
    "c = Counter(country_stock_count.values())\n",
    "# power law distribution of (coutry, product) counts\n",
    "plt.loglog(c.keys(),c.values(),'bo')\n",
    "plt.xlabel('unique number of combination with same number of occurance')\n",
    "plt.ylabel('the occurance number of unique number of combination ')\n",
    "plt.show()"
   ]
  },
  {
   "cell_type": "code",
   "execution_count": 170,
   "metadata": {},
   "outputs": [],
   "source": [
    "# Build sparse matrix\n",
    "import numpy as np\n",
    "from scipy.sparse import coo_matrix\n",
    "\n",
    "\n",
    "country_stock, val= zip(*country_stock_count)\n",
    "rows, cols  = map(np.array, zip(*country_stock))\n",
    "val = np.array(val)\n",
    "country_stock_matrix = coo_matrix((val, (rows, cols)))"
   ]
  },
  {
   "cell_type": "code",
   "execution_count": 283,
   "metadata": {},
   "outputs": [],
   "source": [
    "lsm = country_stock_matrix.tocsr()#location_2_stock_code\n",
    "lsmt = lsm.transpose()"
   ]
  },
  {
   "cell_type": "markdown",
   "metadata": {},
   "source": [
    "#### construct embeddings: decentralized alternative least square algorithm"
   ]
  },
  {
   "cell_type": "code",
   "execution_count": 226,
   "metadata": {},
   "outputs": [],
   "source": [
    "from scipy.sparse import bmat\n",
    "co_oc = bmat([[ssm],[csm],[lsm]])"
   ]
  },
  {
   "cell_type": "code",
   "execution_count": null,
   "metadata": {},
   "outputs": [],
   "source": [
    "plt.figure(figsize=(5,20))\n",
    "#plt.colorbar(c)\n",
    "plt.imshow(co_oc.todense().T>0)\n",
    "\n",
    "plt.show()"
   ]
  },
  {
   "cell_type": "code",
   "execution_count": 296,
   "metadata": {},
   "outputs": [
    {
     "name": "stdout",
     "output_type": "stream",
     "text": [
      "The sparsity of the matrix of customer to stock code is: 0.015039586288442647\n"
     ]
    }
   ],
   "source": [
    "a,b = csm.shape\n",
    "sparcity = np.sum(csm.todense()>0)/(a*b)\n",
    "print('The sparsity of the matrix of customer to stock code is: {}'.format(sparcity))"
   ]
  },
  {
   "cell_type": "code",
   "execution_count": 297,
   "metadata": {},
   "outputs": [
    {
     "name": "stdout",
     "output_type": "stream",
     "text": [
      "The sparsity of the matrix of country to customer to stock code is: 0.1282749256433467\n"
     ]
    }
   ],
   "source": [
    "a,b = lsm.shape\n",
    "sparcity = np.sum(lsm.todense()>0)/(a*b)\n",
    "print('The sparsity of the matrix of country to customer to stock code is: {}'.format(sparcity))"
   ]
  },
  {
   "cell_type": "code",
   "execution_count": 298,
   "metadata": {},
   "outputs": [
    {
     "name": "stdout",
     "output_type": "stream",
     "text": [
      "The sparsity of the matrix of stock code to stock code is: 0.45320056263545205\n"
     ]
    }
   ],
   "source": [
    "a,b = ssm.shape\n",
    "sparcity = np.sum(ssm.todense()>0)/(a*b)\n",
    "print('The sparsity of the matrix of stock code to stock code is: {}'.format(sparcity))"
   ]
  },
  {
   "cell_type": "markdown",
   "metadata": {},
   "source": [
    "#### Matrix factorization"
   ]
  },
  {
   "cell_type": "code",
   "execution_count": 306,
   "metadata": {},
   "outputs": [
    {
     "name": "stdout",
     "output_type": "stream",
     "text": [
      "(8480, 8480) (4070, 4070) (4070,)\n"
     ]
    }
   ],
   "source": [
    "A = co_oc.todense()\n",
    "A = np.log(A+1)\n",
    "U, s, V = np.linalg.svd(co_oc.todense(), full_matrices=True)\n",
    "print(U.shape, V.shape, s.shape)"
   ]
  },
  {
   "cell_type": "code",
   "execution_count": 307,
   "metadata": {},
   "outputs": [
    {
     "data": {
      "image/png": "[encoded data removed]",
      "text/plain": [
       "<Figure size 432x288 with 1 Axes>"
      ]
     },
     "metadata": {},
     "output_type": "display_data"
    }
   ],
   "source": [
    "plt.plot(np.cumsum(s)/np.sum(s))\n",
    "plt.title('The percentage of variance captured by subset of eigenvectors')\n",
    "plt.xlabel('the number of top eigenvalues')\n",
    "plt.ylabel('the percentage of variance')\n",
    "plt.show()"
   ]
  },
  {
   "cell_type": "markdown",
   "metadata": {},
   "source": [
    "#### create embedding of transaction"
   ]
  },
  {
   "cell_type": "code",
   "execution_count": 308,
   "metadata": {},
   "outputs": [],
   "source": [
    "dim_keep = 100\n",
    "embedings_stock = U[:len(unique_stock_code),:dim_keep]\n",
    "embedings_customer = U[len(unique_stock_code):(len(unique_stock_code)+len(unique_customer_id)),:dim_keep]\n",
    "embedings_country = U[(len(unique_stock_code)+len(unique_customer_id)):,:dim_keep]"
   ]
  },
  {
   "cell_type": "code",
   "execution_count": 360,
   "metadata": {},
   "outputs": [
    {
     "data": {
      "text/plain": [
       "-0.0005208037194334262"
      ]
     },
     "execution_count": 360,
     "metadata": {},
     "output_type": "execute_result"
    }
   ],
   "source": [
    "np.mean(embedings_country)"
   ]
  },
  {
   "cell_type": "code",
   "execution_count": 361,
   "metadata": {},
   "outputs": [
    {
     "data": {
      "text/plain": [
       "0.015104382396053447"
      ]
     },
     "execution_count": 361,
     "metadata": {},
     "output_type": "execute_result"
    }
   ],
   "source": [
    "np.std(embedings_country)"
   ]
  },
  {
   "cell_type": "code",
   "execution_count": 311,
   "metadata": {},
   "outputs": [
    {
     "data": {
      "text/plain": [
       "(38, 100)"
      ]
     },
     "execution_count": 311,
     "metadata": {},
     "output_type": "execute_result"
    }
   ],
   "source": [
    "embedings_country.shape"
   ]
  },
  {
   "cell_type": "code",
   "execution_count": 396,
   "metadata": {},
   "outputs": [],
   "source": [
    "data_sub = data[[\"StockCode\",\"CustomerID\",\"Country\",\"Quantity\",\"UnitPrice\",\"is_cancelled\"]]\n",
    "data_sub_dropna = data_sub.dropna()"
   ]
  },
  {
   "cell_type": "code",
   "execution_count": 373,
   "metadata": {},
   "outputs": [],
   "source": [
    "quantity_mean = np.mean(np.abs(data.Quantity))"
   ]
  },
  {
   "cell_type": "code",
   "execution_count": 374,
   "metadata": {},
   "outputs": [],
   "source": [
    "quantity_std = np.std(np.abs(data.Quantity))"
   ]
  },
  {
   "cell_type": "code",
   "execution_count": 375,
   "metadata": {},
   "outputs": [],
   "source": [
    "unit_price_mean = np.mean(np.abs(data.UnitPrice))"
   ]
  },
  {
   "cell_type": "code",
   "execution_count": 376,
   "metadata": {},
   "outputs": [],
   "source": [
    "unit_price_std = np.std(np.abs(data.UnitPrice))"
   ]
  },
  {
   "cell_type": "code",
   "execution_count": 397,
   "metadata": {},
   "outputs": [],
   "source": [
    "label = np.array(data_sub_dropna.is_cancelled)"
   ]
  },
  {
   "cell_type": "code",
   "execution_count": 354,
   "metadata": {},
   "outputs": [],
   "source": [
    "num_trans = len(data_sub_dropna)\n",
    "output = np.zeros((num_trans,3*dim_keep+2))\n",
    "for i in range(num_trans):\n",
    "    trans = data_sub_dropna.iloc[i]\n",
    "    c,s,l = trans.CustomerID,trans.StockCode,trans.Country \n",
    "    \n",
    "    c_idx = mapping_customer_id2idx.get(c)\n",
    "    s_idx = mapping_stock_code2idx.get(s)\n",
    "    l_idx = mapping_country2idx.get(l)\n",
    "    \n",
    "    output[i,:dim_keep] = embedings_customer[c_idx,:]\n",
    "    output[i,dim_keep:(2*dim_keep)] = embedings_stock[s_idx,:]\n",
    "    output[i,2*dim_keep:3*dim_keep] = embedings_country[l_idx,:]\n",
    "    output[i,-2] = (np.abs(trans.Quantity)- quantity_mean)/(quantity_std*100)\n",
    "    output[i,-1] = (trans.UnitPrice- unit_price_mean)/(unit_price_std*100)\n",
    "    "
   ]
  },
  {
   "cell_type": "code",
   "execution_count": 563,
   "metadata": {},
   "outputs": [],
   "source": [
    "np.save('../data/data',output)"
   ]
  },
  {
   "cell_type": "code",
   "execution_count": 564,
   "metadata": {},
   "outputs": [],
   "source": [
    "np.save('../data/label',label)"
   ]
  },
  {
   "cell_type": "markdown",
   "metadata": {},
   "source": [
    "### Modeling"
   ]
  },
  {
   "cell_type": "code",
   "execution_count": 610,
   "metadata": {},
   "outputs": [],
   "source": [
    "data_np = np.load('../data/data.npy')\n",
    "label_np = np.load('../data/label.npy')"
   ]
  },
  {
   "cell_type": "code",
   "execution_count": 566,
   "metadata": {},
   "outputs": [],
   "source": [
    "label_np= label_np.reshape((-1,1))"
   ]
  },
  {
   "cell_type": "code",
   "execution_count": 567,
   "metadata": {},
   "outputs": [
    {
     "data": {
      "text/plain": [
       "(406829, 1)"
      ]
     },
     "execution_count": 567,
     "metadata": {},
     "output_type": "execute_result"
    }
   ],
   "source": [
    "label_np.shape"
   ]
  },
  {
   "cell_type": "markdown",
   "metadata": {},
   "source": [
    "#### split data into train valid test"
   ]
  },
  {
   "cell_type": "code",
   "execution_count": 611,
   "metadata": {},
   "outputs": [],
   "source": [
    "from sklearn.model_selection import train_test_split\n",
    "\n",
    "X_train, X_test, y_train, y_test = train_test_split(data_np, label_np, test_size=0.33, random_state=42)"
   ]
  },
  {
   "cell_type": "code",
   "execution_count": 569,
   "metadata": {},
   "outputs": [
    {
     "data": {
      "text/plain": [
       "(272575, 302)"
      ]
     },
     "execution_count": 569,
     "metadata": {},
     "output_type": "execute_result"
    }
   ],
   "source": [
    "X_train.shape"
   ]
  },
  {
   "cell_type": "code",
   "execution_count": 570,
   "metadata": {},
   "outputs": [
    {
     "data": {
      "text/plain": [
       "array([[0],\n",
       "       [0],\n",
       "       [1],\n",
       "       ...,\n",
       "       [0],\n",
       "       [0],\n",
       "       [0]])"
      ]
     },
     "execution_count": 570,
     "metadata": {},
     "output_type": "execute_result"
    }
   ],
   "source": [
    "y_test"
   ]
  },
  {
   "cell_type": "code",
   "execution_count": 571,
   "metadata": {},
   "outputs": [],
   "source": [
    "import tensorflow as tf"
   ]
  },
  {
   "cell_type": "markdown",
   "metadata": {},
   "source": [
    "#### a. Logistic regression"
   ]
  },
  {
   "cell_type": "code",
   "execution_count": 572,
   "metadata": {},
   "outputs": [
    {
     "name": "stdout",
     "output_type": "stream",
     "text": [
      "Epoch: 0001 cost= 0.552777424\n",
      "Epoch: 0002 cost= 0.170347838\n",
      "Epoch: 0003 cost= 0.113357740\n",
      "Epoch: 0004 cost= 0.105589252\n",
      "Epoch: 0005 cost= 0.105139963\n",
      "Epoch: 0006 cost= 0.104280023\n",
      "Epoch: 0007 cost= 0.105725238\n",
      "Epoch: 0008 cost= 0.105103327\n",
      "Epoch: 0009 cost= 0.106837014\n",
      "Epoch: 0010 cost= 0.104677985\n",
      "Epoch: 0011 cost= 0.106880765\n",
      "Epoch: 0012 cost= 0.106462256\n",
      "Epoch: 0013 cost= 0.104435184\n",
      "Epoch: 0014 cost= 0.105833626\n",
      "Epoch: 0015 cost= 0.105255279\n",
      "Epoch: 0016 cost= 0.104772911\n",
      "Epoch: 0017 cost= 0.106003341\n",
      "Epoch: 0018 cost= 0.105455459\n",
      "Epoch: 0019 cost= 0.104766209\n",
      "Epoch: 0020 cost= 0.106423191\n",
      "Epoch: 0021 cost= 0.105835575\n",
      "Epoch: 0022 cost= 0.104025319\n",
      "Epoch: 0023 cost= 0.104939975\n",
      "Epoch: 0024 cost= 0.105876660\n",
      "Epoch: 0025 cost= 0.105640560\n",
      "Epoch: 0026 cost= 0.108509380\n",
      "Epoch: 0027 cost= 0.107278837\n",
      "Epoch: 0028 cost= 0.107637716\n",
      "Epoch: 0029 cost= 0.106038462\n",
      "Epoch: 0030 cost= 0.105298304\n",
      "Epoch: 0031 cost= 0.105921202\n",
      "Epoch: 0032 cost= 0.103639699\n",
      "Epoch: 0033 cost= 0.104629500\n",
      "Epoch: 0034 cost= 0.106736280\n",
      "Epoch: 0035 cost= 0.106083887\n",
      "Epoch: 0036 cost= 0.106609653\n",
      "Epoch: 0037 cost= 0.105325178\n",
      "Epoch: 0038 cost= 0.105800431\n",
      "Epoch: 0039 cost= 0.106964823\n",
      "Epoch: 0040 cost= 0.105196420\n",
      "Epoch: 0041 cost= 0.104502467\n",
      "Epoch: 0042 cost= 0.105867459\n",
      "Epoch: 0043 cost= 0.105046405\n",
      "Epoch: 0044 cost= 0.105457787\n",
      "Epoch: 0045 cost= 0.105887000\n",
      "Epoch: 0046 cost= 0.105584452\n",
      "Epoch: 0047 cost= 0.105610475\n",
      "Epoch: 0048 cost= 0.104777556\n",
      "Epoch: 0049 cost= 0.107048119\n",
      "Epoch: 0050 cost= 0.108365781\n",
      "Optimization Finished!\n"
     ]
    }
   ],
   "source": [
    "import tensorflow as tf\n",
    "\n",
    "\n",
    "# Parameters\n",
    "learning_rate = 0.001\n",
    "training_epochs = 50\n",
    "batch_size = 100\n",
    "display_step = 1\n",
    "\n",
    "graph = tf.Graph()\n",
    "with graph.as_default():\n",
    "    # tf Graph Input\n",
    "    x = tf.placeholder(tf.float32, [None, 302]) # mnist data image of shape 28*28=784\n",
    "    y = tf.placeholder(tf.float32, [None,1]) # 0-9 digits recognition => 10 classes\n",
    "\n",
    "    # Set model weights\n",
    "    W = tf.get_variable(\"W\", (302,1),initializer=tf.random_normal_initializer())\n",
    "    b = tf.get_variable(\"b\", (1),initializer=tf.random_normal_initializer())\n",
    "\n",
    "    # Construct model\n",
    "    logits = tf.matmul(x, W) + b\n",
    "    pred = tf.nn.sigmoid(logits) \n",
    "\n",
    "    # Minimize error using cross entropy\n",
    "    cost = tf.reduce_mean(tf.nn.sigmoid_cross_entropy_with_logits(logits=logits,labels=y))\n",
    "    # Gradient Descent\n",
    "    optimizer = tf.train.AdamOptimizer(learning_rate).minimize(cost)\n",
    "\n",
    "    # Initialize the variables (i.e. assign their default value)\n",
    "    init = tf.global_variables_initializer()\n",
    "\n",
    "    # Start training\n",
    "    with tf.Session() as sess:\n",
    "\n",
    "        # Run the initializer\n",
    "        sess.run(init)\n",
    "\n",
    "        # Training cycle\n",
    "        for epoch in range(training_epochs):\n",
    "            avg_cost = 0.\n",
    "            total_batch = int(X_train.shape[0]/batch_size)\n",
    "            # Loop over all batches\n",
    "            for i in range(total_batch):\n",
    "                batch_idx = np.random.choice(X_train.shape[0], batch_size)\n",
    "\n",
    "                batch_xs, batch_ys = X_train[batch_idx,],y_train[batch_idx]\n",
    "                # Run optimization op (backprop) and cost op (to get loss value)\n",
    "                _, c = sess.run([optimizer, cost], feed_dict={x: batch_xs,\n",
    "                                                              y: batch_ys})\n",
    "                # Compute average loss\n",
    "                avg_cost += c / total_batch\n",
    "            # Display logs per epoch step\n",
    "            if (epoch+1) % display_step == 0:\n",
    "                print(\"Epoch:\", '%04d' % (epoch+1), \"cost=\", \"{:.9f}\".format(avg_cost))\n",
    "\n",
    "        print(\"Optimization Finished!\")\n",
    "\n",
    "        # Test model\n",
    "        #correct_prediction = tf.equal(pred>0.5, y)\n",
    "        # Calculate accuracy\n",
    "        #accuracy = tf.reduce_mean(tf.cast(correct_prediction, tf.float32))\n",
    "        y_score_lg = pred.eval({x: X_test, y: y_test})\n",
    "\n",
    "   \n",
    "    \n"
   ]
  },
  {
   "cell_type": "code",
   "execution_count": 573,
   "metadata": {},
   "outputs": [
    {
     "name": "stdout",
     "output_type": "stream",
     "text": [
      "0.9784810880867609\n",
      "0.4\n",
      "0.0006925207756232687\n",
      "0.6031540194651023\n",
      "[[131363      3]\n",
      " [  2886      2]]\n"
     ]
    }
   ],
   "source": [
    "from sklearn.metrics import roc_auc_score,accuracy_score, precision_score,recall_score,roc_curve,auc\n",
    "\n",
    "fpr_lg, tpr_lg, _ = roc_curve(y_test, y_score_lg)\n",
    "roc_auc_lg = auc(fpr_lg, tpr_lg)\n",
    "    \n",
    "y_pred_lg = y_score_lg>0.5\n",
    "print(accuracy_score(y_test, y_pred_lg))\n",
    "print(precision_score(y_test, y_pred_lg))\n",
    "print(recall_score(y_test, y_pred_lg))\n",
    "print(roc_auc_score(y_test, y_score_lg))\n",
    "print(confusion_matrix(y_test, y_pred_lg))"
   ]
  },
  {
   "cell_type": "markdown",
   "metadata": {},
   "source": [
    "### random guess"
   ]
  },
  {
   "cell_type": "code",
   "execution_count": 574,
   "metadata": {},
   "outputs": [],
   "source": [
    "y_score_rand= np.random.rand(len(y_test),1)"
   ]
  },
  {
   "cell_type": "code",
   "execution_count": 575,
   "metadata": {},
   "outputs": [
    {
     "name": "stdout",
     "output_type": "stream",
     "text": [
      "0.500908725252134\n",
      "0.021322025293775103\n",
      "0.49445983379501385\n",
      "0.4958050714539569\n",
      "[[65821 65545]\n",
      " [ 1460  1428]]\n"
     ]
    }
   ],
   "source": [
    "from sklearn.metrics import roc_auc_score,accuracy_score, precision_score,recall_score,roc_curve,auc\n",
    "\n",
    "fpr_rand, tpr_rand, _ = roc_curve(y_test, y_score_rand)\n",
    "roc_auc_rand = auc(fpr_rand, tpr_rand)\n",
    "    \n",
    "y_pred_rand = y_score_rand>0.5\n",
    "print(accuracy_score(y_test, y_pred_rand))\n",
    "print(precision_score(y_test, y_pred_rand))\n",
    "print(recall_score(y_test, y_pred_rand))\n",
    "print(roc_auc_score(y_test, y_score_rand))\n",
    "print(confusion_matrix(y_test, y_pred_rand))"
   ]
  },
  {
   "cell_type": "markdown",
   "metadata": {},
   "source": [
    "#### Neural Network"
   ]
  },
  {
   "cell_type": "code",
   "execution_count": 576,
   "metadata": {},
   "outputs": [],
   "source": [
    "import tensorflow as tf\n",
    "\n",
    "def NN(X_train,X_test,y_train,y_test,input_dim=302):\n",
    "\n",
    "\n",
    "    # Parameters\n",
    "    learning_rate = 0.001\n",
    "    training_epochs = 50\n",
    "    batch_size = 100\n",
    "    display_step = 1\n",
    "    h1 = 10\n",
    "    h2 = 10\n",
    "    h3 = 10\n",
    "\n",
    "    graph = tf.Graph()\n",
    "    with graph.as_default():\n",
    "\n",
    "        # tf Graph Input\n",
    "        x = tf.placeholder(tf.float32, [None, input_dim]) # mnist data image of shape 28*28=784\n",
    "        y = tf.placeholder(tf.float32, [None,1]) # 0-9 digits recognition => 10 classes\n",
    "\n",
    "        # Set model weights\n",
    "        W1 = tf.get_variable(\"W1\", (input_dim,h1),initializer=tf.random_normal_initializer())\n",
    "        b1 = tf.get_variable(\"b1\", (h1),initializer=tf.random_normal_initializer())\n",
    "\n",
    "        W2 = tf.get_variable(\"W2\",(h1, h2),initializer=tf.random_normal_initializer())\n",
    "        b2 = tf.get_variable(\"b2\",(h2),initializer=tf.random_normal_initializer())\n",
    "\n",
    "        W3 = tf.get_variable(\"W3\",(h2, h3),initializer=tf.random_normal_initializer())\n",
    "        b3 = tf.get_variable(\"b3\", (h3),initializer=tf.random_normal_initializer())\n",
    "\n",
    "        W4 = tf.get_variable(\"W4\", (h1,1),initializer=tf.random_normal_initializer())\n",
    "        b4 = tf.get_variable(\"b4\", (1),initializer=tf.random_normal_initializer())\n",
    "\n",
    "\n",
    "        # Construct model\n",
    "        z1 = tf.matmul(x, W1) + b1\n",
    "        z1 = tf.nn.selu(z1)\n",
    "\n",
    "        z2 = tf.matmul(z1, W2) + b2\n",
    "        z2 = tf.nn.selu(z2)\n",
    "\n",
    "        z3 = tf.matmul(z2, W3) + b3\n",
    "        z3 = tf.nn.selu(z3)\n",
    "\n",
    "        logits = tf.matmul(z3, W4) + b4\n",
    "\n",
    "        pred = tf.nn.sigmoid(logits) \n",
    "\n",
    "        # Minimize error using cross entropy\n",
    "        cost = tf.reduce_mean(tf.nn.sigmoid_cross_entropy_with_logits(logits=logits,labels=y))\n",
    "        # Gradient Descent\n",
    "        optimizer = tf.train.AdamOptimizer(learning_rate).minimize(cost)\n",
    "\n",
    "        # Initialize the variables (i.e. assign their default value)\n",
    "        init = tf.global_variables_initializer()\n",
    "\n",
    "        # Start training\n",
    "        with tf.Session() as sess:\n",
    "\n",
    "            # Run the initializer\n",
    "            sess.run(init)\n",
    "\n",
    "            # Training cycle\n",
    "            for epoch in range(training_epochs):\n",
    "                avg_cost = 0.\n",
    "                total_batch = int(X_train.shape[0]/batch_size)\n",
    "                # Loop over all batches\n",
    "                for i in range(total_batch):\n",
    "                    batch_idx = np.random.choice(X_train.shape[0], batch_size)\n",
    "\n",
    "                    batch_xs, batch_ys = X_train[batch_idx,],y_train[batch_idx]\n",
    "                    # Run optimization op (backprop) and cost op (to get loss value)\n",
    "                    _, c = sess.run([optimizer, cost], feed_dict={x: batch_xs,\n",
    "                                                                  y: batch_ys})\n",
    "                    # Compute average loss\n",
    "                    avg_cost += c / total_batch\n",
    "                # Display logs per epoch step\n",
    "                if (epoch+1) % display_step == 0:\n",
    "                    print(\"Epoch:\", '%04d' % (epoch+1), \"cost=\", \"{:.9f}\".format(avg_cost))\n",
    "\n",
    "            print(\"Optimization Finished!\")\n",
    "\n",
    "            # Test model\n",
    "            #correct_prediction = tf.equal(pred>0.5, y)\n",
    "            # Calculate accuracy\n",
    "            #accuracy = tf.reduce_mean(tf.cast(correct_prediction, tf.float32))\n",
    "            y_score_nn = pred.eval({x: X_test, y: y_test})\n",
    "            return y_score_nn\n",
    "\n",
    "\n",
    "\n"
   ]
  },
  {
   "cell_type": "code",
   "execution_count": 577,
   "metadata": {},
   "outputs": [
    {
     "name": "stdout",
     "output_type": "stream",
     "text": [
      "Epoch: 0001 cost= 0.106215527\n",
      "Epoch: 0002 cost= 0.107737739\n",
      "Epoch: 0003 cost= 0.105953932\n",
      "Epoch: 0004 cost= 0.105744667\n",
      "Epoch: 0005 cost= 0.106136469\n",
      "Epoch: 0006 cost= 0.107459944\n",
      "Epoch: 0007 cost= 0.105760118\n",
      "Epoch: 0008 cost= 0.104968387\n",
      "Epoch: 0009 cost= 0.104481084\n",
      "Epoch: 0010 cost= 0.104438896\n",
      "Epoch: 0011 cost= 0.105548497\n",
      "Epoch: 0012 cost= 0.105188489\n",
      "Epoch: 0013 cost= 0.106287809\n",
      "Epoch: 0014 cost= 0.105917435\n",
      "Epoch: 0015 cost= 0.106201573\n",
      "Epoch: 0016 cost= 0.105797926\n",
      "Epoch: 0017 cost= 0.104989047\n",
      "Epoch: 0018 cost= 0.104985766\n",
      "Epoch: 0019 cost= 0.106459759\n",
      "Epoch: 0020 cost= 0.105229044\n",
      "Epoch: 0021 cost= 0.105443179\n",
      "Epoch: 0022 cost= 0.105380950\n",
      "Epoch: 0023 cost= 0.104413509\n",
      "Epoch: 0024 cost= 0.105844451\n",
      "Epoch: 0025 cost= 0.104091956\n",
      "Epoch: 0026 cost= 0.104265347\n",
      "Epoch: 0027 cost= 0.104181891\n",
      "Epoch: 0028 cost= 0.106350418\n",
      "Epoch: 0029 cost= 0.104742240\n",
      "Epoch: 0030 cost= 0.105310773\n",
      "Epoch: 0031 cost= 0.104897400\n",
      "Epoch: 0032 cost= 0.103931018\n",
      "Epoch: 0033 cost= 0.104449107\n",
      "Epoch: 0034 cost= 0.102807512\n",
      "Epoch: 0035 cost= 0.104377753\n",
      "Epoch: 0036 cost= 0.103271769\n",
      "Epoch: 0037 cost= 0.104555242\n",
      "Epoch: 0038 cost= 0.105765112\n",
      "Epoch: 0039 cost= 0.105549148\n",
      "Epoch: 0040 cost= 0.106024010\n",
      "Epoch: 0041 cost= 0.107003592\n",
      "Epoch: 0042 cost= 0.104481162\n",
      "Epoch: 0043 cost= 0.103966226\n",
      "Epoch: 0044 cost= 0.105867359\n",
      "Epoch: 0045 cost= 0.103351049\n",
      "Epoch: 0046 cost= 0.103666808\n",
      "Epoch: 0047 cost= 0.105062585\n",
      "Epoch: 0048 cost= 0.104018412\n",
      "Epoch: 0049 cost= 0.105338372\n",
      "Epoch: 0050 cost= 0.104089256\n",
      "Optimization Finished!\n"
     ]
    }
   ],
   "source": [
    "y_score_nn = NN(X_train,X_test,y_train,y_test)"
   ]
  },
  {
   "cell_type": "code",
   "execution_count": 578,
   "metadata": {},
   "outputs": [],
   "source": [
    "def evaluate(y_score_nn):\n",
    "    from sklearn.metrics import roc_auc_score,accuracy_score, precision_score,recall_score,roc_curve,auc,confusion_matrix\n",
    "\n",
    "    fpr_nn, tpr_nn, _ = roc_curve(y_test, y_score_nn)\n",
    "    roc_auc_nn = auc(fpr_nn, tpr_nn)\n",
    "\n",
    "    y_pred_nn = y_score_nn>0.5\n",
    "    print(\"accuracy: \",accuracy_score(y_test, y_pred_nn))\n",
    "    print(\"precision: \",precision_score(y_test, y_pred_nn))\n",
    "    print(\"recall: \", recall_score(y_test, y_pred_nn))\n",
    "    print(\"roc: \", roc_auc_score(y_test, y_score_nn))\n",
    "    print(\"confusion matrix: \\n\",confusion_matrix(y_test, y_pred_nn))"
   ]
  },
  {
   "cell_type": "code",
   "execution_count": 581,
   "metadata": {},
   "outputs": [
    {
     "name": "stdout",
     "output_type": "stream",
     "text": [
      "accuracy:  0.97846619095148\n",
      "precision:  0.0\n",
      "recall:  0.0\n",
      "roc:  0.6194545607874943\n",
      "confusion matrix: \n",
      " [[131363      3]\n",
      " [  2888      0]]\n"
     ]
    }
   ],
   "source": [
    "from sklearn.metrics import roc_auc_score,accuracy_score, precision_score,recall_score,roc_curve,auc,confusion_matrix\n",
    "\n",
    "fpr_nn, tpr_nn, _ = roc_curve(y_test, y_score_nn)\n",
    "roc_auc_nn = auc(fpr_nn, tpr_nn)\n",
    "\n",
    "y_pred_nn = y_score_nn>0.5\n",
    "print(\"accuracy: \",accuracy_score(y_test, y_pred_nn))\n",
    "print(\"precision: \",precision_score(y_test, y_pred_nn))\n",
    "print(\"recall: \", recall_score(y_test, y_pred_nn))\n",
    "print(\"roc: \", roc_auc_score(y_test, y_score_nn))\n",
    "print(\"confusion matrix: \\n\",confusion_matrix(y_test, y_pred_nn))"
   ]
  },
  {
   "cell_type": "markdown",
   "metadata": {},
   "source": [
    "#### XGBoost"
   ]
  },
  {
   "cell_type": "code",
   "execution_count": 612,
   "metadata": {},
   "outputs": [],
   "source": [
    "from xgboost import XGBClassifier\n",
    "model = XGBClassifier()"
   ]
  },
  {
   "cell_type": "code",
   "execution_count": 613,
   "metadata": {},
   "outputs": [
    {
     "data": {
      "text/plain": [
       "XGBClassifier(base_score=0.5, booster='gbtree', colsample_bylevel=1,\n",
       "       colsample_bytree=1, gamma=0, learning_rate=0.1, max_delta_step=0,\n",
       "       max_depth=3, min_child_weight=1, missing=None, n_estimators=100,\n",
       "       n_jobs=1, nthread=None, objective='binary:logistic', random_state=0,\n",
       "       reg_alpha=0, reg_lambda=1, scale_pos_weight=1, seed=None,\n",
       "       silent=True, subsample=1)"
      ]
     },
     "execution_count": 613,
     "metadata": {},
     "output_type": "execute_result"
    }
   ],
   "source": [
    "model.fit(X_train, y_train.reshape(-1))"
   ]
  },
  {
   "cell_type": "code",
   "execution_count": 614,
   "metadata": {},
   "outputs": [
    {
     "name": "stderr",
     "output_type": "stream",
     "text": [
      "/Users/narisutao/miniconda3/lib/python3.6/site-packages/sklearn/preprocessing/label.py:151: DeprecationWarning: The truth value of an empty array is ambiguous. Returning False, but in future this will result in an error. Use `array.size > 0` to check that an array is not empty.\n",
      "  if diff:\n"
     ]
    }
   ],
   "source": [
    "y_pred_xgb = model.predict(X_test)"
   ]
  },
  {
   "cell_type": "code",
   "execution_count": 615,
   "metadata": {},
   "outputs": [
    {
     "name": "stdout",
     "output_type": "stream",
     "text": [
      "accuracy:  0.9785108823573226\n",
      "precision:  0.5348837209302325\n",
      "recall:  0.00796398891966759\n",
      "confusion matrix: \n",
      " [[131346     20]\n",
      " [  2865     23]]\n"
     ]
    }
   ],
   "source": [
    "from sklearn.metrics import roc_auc_score,accuracy_score, precision_score,recall_score,roc_curve,auc,confusion_matrix\n",
    "print(\"accuracy: \",accuracy_score(y_test, y_pred_xgb))\n",
    "print(\"precision: \",precision_score(y_test, y_pred_xgb))\n",
    "print(\"recall: \", recall_score(y_test, y_pred_xgb))\n",
    "print(\"confusion matrix: \\n\",confusion_matrix(y_test, y_pred_xgb))"
   ]
  },
  {
   "cell_type": "code",
   "execution_count": 617,
   "metadata": {},
   "outputs": [
    {
     "data": {
      "image/png": "[encoded data removed]",
      "text/plain": [
       "<Figure size 432x288 with 1 Axes>"
      ]
     },
     "metadata": {},
     "output_type": "display_data"
    }
   ],
   "source": [
    "from xgboost import plot_importance\n",
    "plot_importance(model)\n",
    "plt.show()"
   ]
  },
  {
   "cell_type": "markdown",
   "metadata": {},
   "source": [
    "### comparison between models performance"
   ]
  },
  {
   "cell_type": "code",
   "execution_count": 582,
   "metadata": {},
   "outputs": [
    {
     "data": {
      "image/png": "[encoded data removed]",
      "text/plain": [
       "<Figure size 432x288 with 1 Axes>"
      ]
     },
     "metadata": {},
     "output_type": "display_data"
    }
   ],
   "source": [
    "plt.figure()\n",
    "lw = 2\n",
    "plt.plot(fpr_rand, tpr_rand, color='navy',linestyle='--',\n",
    "         lw=lw, label='ROC curve (area = %0.2f)(randome guess)' % roc_auc_rand)\n",
    "#plt.plot([0, 1], [0, 1], color='navy', lw=lw, linestyle='--')\n",
    "plt.plot(fpr_nn, tpr_nn, color='green',linestyle='--',\n",
    "         lw=lw, label='ROC curve (area = %0.2f)(neural network)' % roc_auc_nn)\n",
    "#plt.plot([0, 1], [0, 1], color='navy', lw=lw, linestyle='--')\n",
    "plt.plot(fpr_lg, tpr_lg, color='darkorange',\n",
    "         lw=lw, label='ROC curve (area = %0.2f)(logistic regression)' % roc_auc_lg)\n",
    "plt.xlim([0.0, 1.0])\n",
    "plt.ylim([0.0, 1.05])\n",
    "plt.xlabel('False Positive Rate')\n",
    "plt.ylabel('True Positive Rate')\n",
    "plt.title('Receiver operating characteristic example')\n",
    "plt.legend(loc=\"lower right\")\n",
    "plt.show()"
   ]
  },
  {
   "cell_type": "markdown",
   "metadata": {},
   "source": [
    "## Next step:\n",
    "1. Replace the SVD with decentralized alternative least squre algorithm so that the embedding learning can be scaled up to even larger data set.\n",
    "2. Parse time into local time given the courntry, and generate hour, working day, holiday, features. Finally, create embedding out of these features.\n",
    "3. Incoperate the quantity and unit price into the cooccurance matrix construction."
   ]
  },
  {
   "cell_type": "markdown",
   "metadata": {},
   "source": [
    "---\n",
    "## Q3.2: \n",
    "## Identify the most important features in the dataset for predicting the cancellation. Quantify the effect of one of them on the cancellation probability\n",
    "<a id=\"q32\"></a>"
   ]
  },
  {
   "cell_type": "markdown",
   "metadata": {},
   "source": [
    "- **Idea**: we will exclude one feature at a time and evalue the model performance. When we remove the most import feature, we would see the biggest performance drop."
   ]
  },
  {
   "cell_type": "markdown",
   "metadata": {},
   "source": [
    "#### 1. Isolate unit price"
   ]
  },
  {
   "cell_type": "code",
   "execution_count": 583,
   "metadata": {},
   "outputs": [],
   "source": [
    "data_np_tmp = data_np[:,:-1]"
   ]
  },
  {
   "cell_type": "code",
   "execution_count": 584,
   "metadata": {},
   "outputs": [
    {
     "data": {
      "text/plain": [
       "(406829, 301)"
      ]
     },
     "execution_count": 584,
     "metadata": {},
     "output_type": "execute_result"
    }
   ],
   "source": [
    "data_np[:,:-1].shape"
   ]
  },
  {
   "cell_type": "code",
   "execution_count": 585,
   "metadata": {},
   "outputs": [
    {
     "name": "stdout",
     "output_type": "stream",
     "text": [
      "Epoch: 0001 cost= 0.107140247\n",
      "Epoch: 0002 cost= 0.107224775\n",
      "Epoch: 0003 cost= 0.105743815\n",
      "Epoch: 0004 cost= 0.107116896\n",
      "Epoch: 0005 cost= 0.106367944\n",
      "Epoch: 0006 cost= 0.107687576\n",
      "Epoch: 0007 cost= 0.107848820\n",
      "Epoch: 0008 cost= 0.107705138\n",
      "Epoch: 0009 cost= 0.105602851\n",
      "Epoch: 0010 cost= 0.107054661\n",
      "Epoch: 0011 cost= 0.106156993\n",
      "Epoch: 0012 cost= 0.105901000\n",
      "Epoch: 0013 cost= 0.107256597\n",
      "Epoch: 0014 cost= 0.106554810\n",
      "Epoch: 0015 cost= 0.108212325\n",
      "Epoch: 0016 cost= 0.104906970\n",
      "Epoch: 0017 cost= 0.106097837\n",
      "Epoch: 0018 cost= 0.107308358\n",
      "Epoch: 0019 cost= 0.107487257\n",
      "Epoch: 0020 cost= 0.105250448\n",
      "Epoch: 0021 cost= 0.105538260\n",
      "Epoch: 0022 cost= 0.105114690\n",
      "Epoch: 0023 cost= 0.106078080\n",
      "Epoch: 0024 cost= 0.105711524\n",
      "Epoch: 0025 cost= 0.107990280\n",
      "Epoch: 0026 cost= 0.106079399\n",
      "Epoch: 0027 cost= 0.106891091\n",
      "Epoch: 0028 cost= 0.106203223\n",
      "Epoch: 0029 cost= 0.107546798\n",
      "Epoch: 0030 cost= 0.107902004\n",
      "Epoch: 0031 cost= 0.104744144\n",
      "Epoch: 0032 cost= 0.105868374\n",
      "Epoch: 0033 cost= 0.107172653\n",
      "Epoch: 0034 cost= 0.105936134\n",
      "Epoch: 0035 cost= 0.105437956\n",
      "Epoch: 0036 cost= 0.105403940\n",
      "Epoch: 0037 cost= 0.104491568\n",
      "Epoch: 0038 cost= 0.106943861\n",
      "Epoch: 0039 cost= 0.106461975\n",
      "Epoch: 0040 cost= 0.103539687\n",
      "Epoch: 0041 cost= 0.105752065\n",
      "Epoch: 0042 cost= 0.107015177\n",
      "Epoch: 0043 cost= 0.106877617\n",
      "Epoch: 0044 cost= 0.106326426\n",
      "Epoch: 0045 cost= 0.106878121\n",
      "Epoch: 0046 cost= 0.107148288\n",
      "Epoch: 0047 cost= 0.106173091\n",
      "Epoch: 0048 cost= 0.108002912\n",
      "Epoch: 0049 cost= 0.107689600\n",
      "Epoch: 0050 cost= 0.106531461\n",
      "Optimization Finished!\n",
      "accuracy:  0.9784885366544014\n",
      "precision:  0.0\n",
      "recall:  0.0\n",
      "roc:  0.6085663340181329\n"
     ]
    },
    {
     "name": "stderr",
     "output_type": "stream",
     "text": [
      "/Users/narisutao/miniconda3/lib/python3.6/site-packages/sklearn/metrics/classification.py:1135: UndefinedMetricWarning: Precision is ill-defined and being set to 0.0 due to no predicted samples.\n",
      "  'precision', 'predicted', average, warn_for)\n"
     ]
    },
    {
     "name": "stdout",
     "output_type": "stream",
     "text": [
      "confusion matrix: \n",
      " [[131366      0]\n",
      " [  2888      0]]\n"
     ]
    }
   ],
   "source": [
    "from sklearn.model_selection import train_test_split\n",
    "X_train, X_test, y_train, y_test = train_test_split(data_np_tmp, label_np, test_size=0.33, random_state=42)\n",
    "y_score_nn = NN(X_train, X_test, y_train, y_test,input_dim=301)\n",
    "evaluate(y_score_nn)"
   ]
  },
  {
   "cell_type": "markdown",
   "metadata": {},
   "source": [
    "#### 2. Isolate quantity"
   ]
  },
  {
   "cell_type": "code",
   "execution_count": 586,
   "metadata": {},
   "outputs": [],
   "source": [
    "data_np_tmp = np.concatenate((data_np[:,:-2],data_np[:,-1].reshape(-1,1)),axis=1)"
   ]
  },
  {
   "cell_type": "code",
   "execution_count": 587,
   "metadata": {},
   "outputs": [
    {
     "data": {
      "text/plain": [
       "(406829, 301)"
      ]
     },
     "execution_count": 587,
     "metadata": {},
     "output_type": "execute_result"
    }
   ],
   "source": [
    "data_np_tmp.shape"
   ]
  },
  {
   "cell_type": "code",
   "execution_count": 588,
   "metadata": {},
   "outputs": [
    {
     "name": "stdout",
     "output_type": "stream",
     "text": [
      "Epoch: 0001 cost= 0.108765993\n",
      "Epoch: 0002 cost= 0.106147383\n",
      "Epoch: 0003 cost= 0.105099457\n",
      "Epoch: 0004 cost= 0.104606614\n",
      "Epoch: 0005 cost= 0.104738038\n",
      "Epoch: 0006 cost= 0.107958640\n",
      "Epoch: 0007 cost= 0.104104794\n",
      "Epoch: 0008 cost= 0.105016581\n",
      "Epoch: 0009 cost= 0.108413106\n",
      "Epoch: 0010 cost= 0.106978690\n",
      "Epoch: 0011 cost= 0.104697847\n",
      "Epoch: 0012 cost= 0.107480033\n",
      "Epoch: 0013 cost= 0.104249935\n",
      "Epoch: 0014 cost= 0.105320552\n",
      "Epoch: 0015 cost= 0.105948972\n",
      "Epoch: 0016 cost= 0.105504832\n",
      "Epoch: 0017 cost= 0.103298487\n",
      "Epoch: 0018 cost= 0.106750359\n",
      "Epoch: 0019 cost= 0.105430465\n",
      "Epoch: 0020 cost= 0.106074779\n",
      "Epoch: 0021 cost= 0.106928015\n",
      "Epoch: 0022 cost= 0.104385692\n",
      "Epoch: 0023 cost= 0.106676473\n",
      "Epoch: 0024 cost= 0.105366023\n",
      "Epoch: 0025 cost= 0.106183263\n",
      "Epoch: 0026 cost= 0.106347412\n",
      "Epoch: 0027 cost= 0.105164162\n",
      "Epoch: 0028 cost= 0.106066496\n",
      "Epoch: 0029 cost= 0.104880043\n",
      "Epoch: 0030 cost= 0.105269258\n",
      "Epoch: 0031 cost= 0.106824157\n",
      "Epoch: 0032 cost= 0.106209900\n",
      "Epoch: 0033 cost= 0.106360490\n",
      "Epoch: 0034 cost= 0.106649447\n",
      "Epoch: 0035 cost= 0.104776341\n",
      "Epoch: 0036 cost= 0.104676507\n",
      "Epoch: 0037 cost= 0.107307631\n",
      "Epoch: 0038 cost= 0.104493493\n",
      "Epoch: 0039 cost= 0.106819936\n",
      "Epoch: 0040 cost= 0.106297164\n",
      "Epoch: 0041 cost= 0.106210563\n",
      "Epoch: 0042 cost= 0.105966920\n",
      "Epoch: 0043 cost= 0.104033347\n",
      "Epoch: 0044 cost= 0.105156675\n",
      "Epoch: 0045 cost= 0.104447862\n",
      "Epoch: 0046 cost= 0.105309378\n",
      "Epoch: 0047 cost= 0.103408371\n",
      "Epoch: 0048 cost= 0.105451069\n",
      "Epoch: 0049 cost= 0.104819451\n",
      "Epoch: 0050 cost= 0.106025086\n",
      "Optimization Finished!\n",
      "accuracy:  0.9784512938161991\n",
      "precision:  0.4528301886792453\n",
      "recall:  0.008310249307479225\n",
      "roc:  0.6151338088720679\n",
      "confusion matrix: \n",
      " [[131337     29]\n",
      " [  2864     24]]\n"
     ]
    }
   ],
   "source": [
    "from sklearn.model_selection import train_test_split\n",
    "X_train, X_test, y_train, y_test = train_test_split(data_np_tmp, label_np, test_size=0.33, random_state=42)\n",
    "y_score_nn = NN(X_train, X_test, y_train, y_test,input_dim=301)\n",
    "evaluate(y_score_nn)"
   ]
  },
  {
   "cell_type": "markdown",
   "metadata": {},
   "source": [
    "#### 3. Isolate customer id"
   ]
  },
  {
   "cell_type": "code",
   "execution_count": 589,
   "metadata": {},
   "outputs": [],
   "source": [
    "data_np_tmp = data_np[:,100:]"
   ]
  },
  {
   "cell_type": "code",
   "execution_count": 590,
   "metadata": {},
   "outputs": [
    {
     "data": {
      "text/plain": [
       "(406829, 202)"
      ]
     },
     "execution_count": 590,
     "metadata": {},
     "output_type": "execute_result"
    }
   ],
   "source": [
    "data_np_tmp.shape"
   ]
  },
  {
   "cell_type": "code",
   "execution_count": 591,
   "metadata": {},
   "outputs": [
    {
     "name": "stdout",
     "output_type": "stream",
     "text": [
      "Epoch: 0001 cost= 0.108843034\n",
      "Epoch: 0002 cost= 0.106299180\n",
      "Epoch: 0003 cost= 0.106287797\n",
      "Epoch: 0004 cost= 0.106201767\n",
      "Epoch: 0005 cost= 0.105617861\n",
      "Epoch: 0006 cost= 0.106251858\n",
      "Epoch: 0007 cost= 0.106665554\n",
      "Epoch: 0008 cost= 0.106647272\n",
      "Epoch: 0009 cost= 0.105408842\n",
      "Epoch: 0010 cost= 0.105792616\n",
      "Epoch: 0011 cost= 0.105118654\n",
      "Epoch: 0012 cost= 0.106320424\n",
      "Epoch: 0013 cost= 0.106141685\n",
      "Epoch: 0014 cost= 0.104885537\n",
      "Epoch: 0015 cost= 0.107463233\n",
      "Epoch: 0016 cost= 0.103082023\n",
      "Epoch: 0017 cost= 0.104412442\n",
      "Epoch: 0018 cost= 0.103270353\n",
      "Epoch: 0019 cost= 0.105014582\n",
      "Epoch: 0020 cost= 0.105351839\n",
      "Epoch: 0021 cost= 0.104969413\n",
      "Epoch: 0022 cost= 0.105342966\n",
      "Epoch: 0023 cost= 0.105238431\n",
      "Epoch: 0024 cost= 0.105847641\n",
      "Epoch: 0025 cost= 0.104500766\n",
      "Epoch: 0026 cost= 0.105843568\n",
      "Epoch: 0027 cost= 0.104656028\n",
      "Epoch: 0028 cost= 0.103311952\n",
      "Epoch: 0029 cost= 0.105727429\n",
      "Epoch: 0030 cost= 0.105572411\n",
      "Epoch: 0031 cost= 0.103757611\n",
      "Epoch: 0032 cost= 0.102953146\n",
      "Epoch: 0033 cost= 0.105881505\n",
      "Epoch: 0034 cost= 0.104958194\n",
      "Epoch: 0035 cost= 0.103492448\n",
      "Epoch: 0036 cost= 0.105023360\n",
      "Epoch: 0037 cost= 0.104313046\n",
      "Epoch: 0038 cost= 0.106086759\n",
      "Epoch: 0039 cost= 0.104342276\n",
      "Epoch: 0040 cost= 0.104070622\n",
      "Epoch: 0041 cost= 0.104201584\n",
      "Epoch: 0042 cost= 0.104517545\n",
      "Epoch: 0043 cost= 0.104048309\n",
      "Epoch: 0044 cost= 0.103948215\n",
      "Epoch: 0045 cost= 0.103425770\n",
      "Epoch: 0046 cost= 0.103707626\n",
      "Epoch: 0047 cost= 0.106087215\n",
      "Epoch: 0048 cost= 0.104598262\n",
      "Epoch: 0049 cost= 0.104522808\n",
      "Epoch: 0050 cost= 0.105574236\n",
      "Optimization Finished!\n",
      "accuracy:  0.9784587423838396\n",
      "precision:  0.3\n",
      "recall:  0.001038781163434903\n",
      "roc:  0.6109990751136902\n",
      "confusion matrix: \n",
      " [[131359      7]\n",
      " [  2885      3]]\n"
     ]
    }
   ],
   "source": [
    "from sklearn.model_selection import train_test_split\n",
    "X_train, X_test, y_train, y_test = train_test_split(data_np_tmp, label_np, test_size=0.33, random_state=42)\n",
    "y_score_nn = NN(X_train, X_test, y_train, y_test,input_dim=202)\n",
    "evaluate(y_score_nn)"
   ]
  },
  {
   "cell_type": "markdown",
   "metadata": {},
   "source": [
    "#### 4. Isolate stock code"
   ]
  },
  {
   "cell_type": "code",
   "execution_count": 592,
   "metadata": {},
   "outputs": [],
   "source": [
    "data_np_tmp = np.concatenate((data_np[:,:100],data_np[:,200:]),axis=1)"
   ]
  },
  {
   "cell_type": "code",
   "execution_count": 593,
   "metadata": {},
   "outputs": [
    {
     "data": {
      "text/plain": [
       "(406829, 202)"
      ]
     },
     "execution_count": 593,
     "metadata": {},
     "output_type": "execute_result"
    }
   ],
   "source": [
    "data_np_tmp.shape"
   ]
  },
  {
   "cell_type": "code",
   "execution_count": 594,
   "metadata": {},
   "outputs": [
    {
     "name": "stdout",
     "output_type": "stream",
     "text": [
      "Epoch: 0001 cost= 0.118218006\n",
      "Epoch: 0002 cost= 0.108221317\n",
      "Epoch: 0003 cost= 0.108781316\n",
      "Epoch: 0004 cost= 0.106475523\n",
      "Epoch: 0005 cost= 0.105413461\n",
      "Epoch: 0006 cost= 0.105371499\n",
      "Epoch: 0007 cost= 0.106462469\n",
      "Epoch: 0008 cost= 0.106137389\n",
      "Epoch: 0009 cost= 0.106158259\n",
      "Epoch: 0010 cost= 0.106788480\n",
      "Epoch: 0011 cost= 0.106552695\n",
      "Epoch: 0012 cost= 0.104325915\n",
      "Epoch: 0013 cost= 0.105730430\n",
      "Epoch: 0014 cost= 0.106478778\n",
      "Epoch: 0015 cost= 0.104668674\n",
      "Epoch: 0016 cost= 0.104833560\n",
      "Epoch: 0017 cost= 0.105977773\n",
      "Epoch: 0018 cost= 0.103542788\n",
      "Epoch: 0019 cost= 0.105388132\n",
      "Epoch: 0020 cost= 0.104797719\n",
      "Epoch: 0021 cost= 0.103959274\n",
      "Epoch: 0022 cost= 0.105378880\n",
      "Epoch: 0023 cost= 0.102107146\n",
      "Epoch: 0024 cost= 0.107105552\n",
      "Epoch: 0025 cost= 0.103834909\n",
      "Epoch: 0026 cost= 0.105825256\n",
      "Epoch: 0027 cost= 0.105786081\n",
      "Epoch: 0028 cost= 0.103515497\n",
      "Epoch: 0029 cost= 0.103584009\n",
      "Epoch: 0030 cost= 0.104511076\n",
      "Epoch: 0031 cost= 0.105202563\n",
      "Epoch: 0032 cost= 0.105390226\n",
      "Epoch: 0033 cost= 0.105415620\n",
      "Epoch: 0034 cost= 0.101926660\n",
      "Epoch: 0035 cost= 0.104732972\n",
      "Epoch: 0036 cost= 0.105997775\n",
      "Epoch: 0037 cost= 0.105080833\n",
      "Epoch: 0038 cost= 0.105021465\n",
      "Epoch: 0039 cost= 0.105132426\n",
      "Epoch: 0040 cost= 0.104385349\n",
      "Epoch: 0041 cost= 0.103672340\n",
      "Epoch: 0042 cost= 0.105665084\n",
      "Epoch: 0043 cost= 0.102756248\n",
      "Epoch: 0044 cost= 0.105421473\n",
      "Epoch: 0045 cost= 0.103499967\n",
      "Epoch: 0046 cost= 0.104859879\n",
      "Epoch: 0047 cost= 0.104425034\n",
      "Epoch: 0048 cost= 0.103484056\n",
      "Epoch: 0049 cost= 0.103203983\n",
      "Epoch: 0050 cost= 0.104932429\n",
      "Optimization Finished!\n",
      "accuracy:  0.9784363966809183\n",
      "precision:  0.4339622641509434\n",
      "recall:  0.00796398891966759\n",
      "roc:  0.6184401875468943\n",
      "confusion matrix: \n",
      " [[131336     30]\n",
      " [  2865     23]]\n"
     ]
    }
   ],
   "source": [
    "from sklearn.model_selection import train_test_split\n",
    "X_train, X_test, y_train, y_test = train_test_split(data_np_tmp, label_np, test_size=0.33, random_state=42)\n",
    "y_score_nn = NN(X_train, X_test, y_train, y_test,input_dim=202)\n",
    "evaluate(y_score_nn)"
   ]
  },
  {
   "cell_type": "markdown",
   "metadata": {},
   "source": [
    "#### 5. Isolate country"
   ]
  },
  {
   "cell_type": "code",
   "execution_count": 595,
   "metadata": {},
   "outputs": [],
   "source": [
    "data_np_tmp = np.concatenate((data_np[:,:200],data_np[:,300:]),axis=1)"
   ]
  },
  {
   "cell_type": "code",
   "execution_count": 596,
   "metadata": {},
   "outputs": [
    {
     "data": {
      "text/plain": [
       "(406829, 202)"
      ]
     },
     "execution_count": 596,
     "metadata": {},
     "output_type": "execute_result"
    }
   ],
   "source": [
    "data_np_tmp.shape"
   ]
  },
  {
   "cell_type": "code",
   "execution_count": 597,
   "metadata": {},
   "outputs": [
    {
     "name": "stdout",
     "output_type": "stream",
     "text": [
      "Epoch: 0001 cost= 0.145194718\n",
      "Epoch: 0002 cost= 0.105904318\n",
      "Epoch: 0003 cost= 0.107695829\n",
      "Epoch: 0004 cost= 0.104171376\n",
      "Epoch: 0005 cost= 0.103326725\n",
      "Epoch: 0006 cost= 0.106832473\n",
      "Epoch: 0007 cost= 0.106571103\n",
      "Epoch: 0008 cost= 0.104945454\n",
      "Epoch: 0009 cost= 0.104675534\n",
      "Epoch: 0010 cost= 0.105144844\n",
      "Epoch: 0011 cost= 0.104361730\n",
      "Epoch: 0012 cost= 0.104266372\n",
      "Epoch: 0013 cost= 0.105010389\n",
      "Epoch: 0014 cost= 0.106009490\n",
      "Epoch: 0015 cost= 0.102933988\n",
      "Epoch: 0016 cost= 0.106386665\n",
      "Epoch: 0017 cost= 0.105175760\n",
      "Epoch: 0018 cost= 0.106049837\n",
      "Epoch: 0019 cost= 0.104947247\n",
      "Epoch: 0020 cost= 0.105178417\n",
      "Epoch: 0021 cost= 0.106043152\n",
      "Epoch: 0022 cost= 0.104474120\n",
      "Epoch: 0023 cost= 0.105574705\n",
      "Epoch: 0024 cost= 0.105555850\n",
      "Epoch: 0025 cost= 0.105324461\n",
      "Epoch: 0026 cost= 0.105071057\n",
      "Epoch: 0027 cost= 0.103031044\n",
      "Epoch: 0028 cost= 0.102731350\n",
      "Epoch: 0029 cost= 0.103892497\n",
      "Epoch: 0030 cost= 0.104938466\n",
      "Epoch: 0031 cost= 0.104615471\n",
      "Epoch: 0032 cost= 0.103269885\n",
      "Epoch: 0033 cost= 0.104779076\n",
      "Epoch: 0034 cost= 0.105308628\n",
      "Epoch: 0035 cost= 0.102301930\n",
      "Epoch: 0036 cost= 0.104285663\n",
      "Epoch: 0037 cost= 0.103625553\n",
      "Epoch: 0038 cost= 0.104822656\n",
      "Epoch: 0039 cost= 0.105488573\n",
      "Epoch: 0040 cost= 0.104074081\n",
      "Epoch: 0041 cost= 0.104296563\n",
      "Epoch: 0042 cost= 0.103611491\n",
      "Epoch: 0043 cost= 0.105314992\n",
      "Epoch: 0044 cost= 0.103214140\n",
      "Epoch: 0045 cost= 0.103395703\n",
      "Epoch: 0046 cost= 0.103937242\n",
      "Epoch: 0047 cost= 0.103872021\n",
      "Epoch: 0048 cost= 0.104848557\n",
      "Epoch: 0049 cost= 0.102329354\n",
      "Epoch: 0050 cost= 0.105776028\n",
      "Optimization Finished!\n",
      "accuracy:  0.9784587423838396\n",
      "precision:  0.45\n",
      "recall:  0.006232686980609419\n",
      "roc:  0.6111574841143961\n",
      "confusion matrix: \n",
      " [[131344     22]\n",
      " [  2870     18]]\n"
     ]
    }
   ],
   "source": [
    "from sklearn.model_selection import train_test_split\n",
    "X_train, X_test, y_train, y_test = train_test_split(data_np_tmp, label_np, test_size=0.33, random_state=42)\n",
    "y_score_nn = NN(X_train, X_test, y_train, y_test,input_dim=202)\n",
    "evaluate(y_score_nn)"
   ]
  },
  {
   "cell_type": "markdown",
   "metadata": {},
   "source": [
    "### Conclusion\n",
    "Based on the roc performance of models given data with different isolated feature, the order of the feature importance are the follwoing:\n",
    "\n",
    "1. Unit price (0.6085)\n",
    "2. Customer ID(0.6109990)\n",
    "3. Country (0.611157)\n",
    "4. quantity(0.6151338)\n",
    "5. Stock code (0.618440)\n",
    "\n"
   ]
  },
  {
   "cell_type": "code",
   "execution_count": null,
   "metadata": {},
   "outputs": [],
   "source": []
  }
 ],
 "metadata": {
  "kernelspec": {
   "display_name": "Python 3",
   "language": "python",
   "name": "python3"
  },
  "language_info": {
   "codemirror_mode": {
    "name": "ipython",
    "version": 3
   },
   "file_extension": ".py",
   "mimetype": "text/x-python",
   "name": "python",
   "nbconvert_exporter": "python",
   "pygments_lexer": "ipython3",
   "version": "3.6.5"
  }
 },
 "nbformat": 4,
 "nbformat_minor": 2
}

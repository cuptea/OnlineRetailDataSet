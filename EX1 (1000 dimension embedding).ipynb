{
 "cells": [
  {
   "cell_type": "markdown",
   "metadata": {},
   "source": [
    "## 3. Load data in csv format from the disk \n",
    "Since it takes some time to parse the excel files, you can speed up by loading the data in the csv format from the local disk.  "
   ]
  },
  {
   "cell_type": "code",
   "execution_count": 3,
   "metadata": {},
   "outputs": [],
   "source": [
    "data = pd.read_csv('../data/data.csv')\n"
   ]
  },
  {
   "cell_type": "markdown",
   "metadata": {},
   "source": [
    "### Add indicator column on whether the transnation is cancelled or not"
   ]
  },
  {
   "cell_type": "code",
   "execution_count": 38,
   "metadata": {},
   "outputs": [],
   "source": [
    "def get_cancel_status(invoice_no):\n",
    "    if 'c' in str(invoice_no).lower():\n",
    "        return 1\n",
    "    else:\n",
    "        return 0\n",
    "    \n",
    "data['is_cancelled'] = [get_cancel_status(invoice_no) for invoice_no in data['InvoiceNo']]"
   ]
  },
  {
   "cell_type": "code",
   "execution_count": 4,
   "metadata": {},
   "outputs": [],
   "source": [
    "unique_stock_code = list(set(data.StockCode))\n",
    "mapping_idx2stock_code = dict(enumerate(unique_stock_code))\n",
    "mapping_stock_code2idx = {v: k for k, v in mapping_idx2stock_code.items()}"
   ]
  },
  {
   "cell_type": "code",
   "execution_count": 5,
   "metadata": {},
   "outputs": [],
   "source": [
    "unique_invoice_number = list(set(data.InvoiceNo))\n",
    "mapping_idx2invoice_number = dict(enumerate(unique_invoice_number))\n",
    "mapping_invoice_number2idx = {v: k for k, v in mapping_idx2invoice_number.items()}"
   ]
  },
  {
   "cell_type": "code",
   "execution_count": 6,
   "metadata": {},
   "outputs": [],
   "source": [
    "mapping_stock_code2description = dict(zip(data.StockCode,data.Description))\n",
    "\n"
   ]
  },
  {
   "cell_type": "markdown",
   "metadata": {},
   "source": [
    "#### 2. group stock code according to the invoice number. We assume each purchase has its own invoice number."
   ]
  },
  {
   "cell_type": "code",
   "execution_count": 7,
   "metadata": {},
   "outputs": [],
   "source": [
    "purchases = data[[\"InvoiceNo\",\"StockCode\"]].groupby(\"InvoiceNo\").agg({'StockCode':lambda x: list(x)})"
   ]
  },
  {
   "cell_type": "code",
   "execution_count": 8,
   "metadata": {},
   "outputs": [],
   "source": [
    "# map StockCode to their index, return array with invoice number, and list of StockCodeIndex\n",
    "vals = purchases.StockCode.apply(lambda purchase: list(map(lambda stock_code: mapping_stock_code2idx.get(stock_code), purchase))).reset_index().values\n",
    "# construct a tuple list of the form (invoice number index, stock_code_index, 1) \n",
    "invoice_stock_one = [(mapping_invoice_number2idx.get(row[0]), word, 1) for row in vals for word in row[1]]"
   ]
  },
  {
   "cell_type": "code",
   "execution_count": 183,
   "metadata": {},
   "outputs": [],
   "source": [
    "#invoice_stock_one = [(mapping_invoice_number2idx.get(i),mapping_stock_code2idx.get(s) , 1) for (i,s) in zip(data.InvoiceNo,data.StockCode)]"
   ]
  },
  {
   "cell_type": "code",
   "execution_count": 9,
   "metadata": {},
   "outputs": [],
   "source": [
    "# Build sparse matrix\n",
    "import numpy as np\n",
    "from scipy.sparse import coo_matrix,triu\n",
    "\n",
    "rows, cols, val = map(np.array, zip(*invoice_stock_one))\n",
    "invoice_stock_matrix = coo_matrix((val, (rows, cols)))"
   ]
  },
  {
   "cell_type": "code",
   "execution_count": 10,
   "metadata": {},
   "outputs": [],
   "source": [
    "data_dropna = data.dropna()"
   ]
  },
  {
   "cell_type": "code",
   "execution_count": 11,
   "metadata": {},
   "outputs": [],
   "source": [
    "unique_customer_id = set([int(id) for id in list(data_dropna.CustomerID)])"
   ]
  },
  {
   "cell_type": "code",
   "execution_count": 12,
   "metadata": {},
   "outputs": [],
   "source": [
    "mapping_customer_id2idx = {k: v for k, v in zip(unique_customer_id,range(len(unique_customer_id)))}\n",
    "mapping_idx2customer_id = {v: k for k, v in zip(unique_customer_id,range(len(unique_customer_id)))}"
   ]
  },
  {
   "cell_type": "code",
   "execution_count": 13,
   "metadata": {},
   "outputs": [],
   "source": [
    "customer_stock_one = [((mapping_customer_id2idx.get(c),mapping_stock_code2idx.get(s)) , 1) for (c,s) in zip(data_dropna.CustomerID,data_dropna.StockCode)]"
   ]
  },
  {
   "cell_type": "code",
   "execution_count": 14,
   "metadata": {},
   "outputs": [],
   "source": [
    "customer_stock_count = {}\n",
    "for ((customer,stock),val) in customer_stock_one:\n",
    "    if (customer,stock) not in customer_stock_count.keys():\n",
    "        customer_stock_count[(customer,stock)]=val\n",
    "    else:\n",
    "        customer_stock_count[(customer,stock)]+=val"
   ]
  },
  {
   "cell_type": "code",
   "execution_count": 15,
   "metadata": {},
   "outputs": [],
   "source": [
    "customer_stock_count = list(customer_stock_count.items())"
   ]
  },
  {
   "cell_type": "code",
   "execution_count": 16,
   "metadata": {},
   "outputs": [],
   "source": [
    "# Build sparse matrix\n",
    "import numpy as np\n",
    "from scipy.sparse import coo_matrix\n",
    "\n",
    "customer_stock, val= zip(*customer_stock_count)\n",
    "rows, cols  = map(np.array, zip(*customer_stock))\n",
    "val = np.array(val)\n",
    "customer_stock_matrix = coo_matrix((val, (rows, cols)))"
   ]
  },
  {
   "cell_type": "markdown",
   "metadata": {},
   "source": [
    "## Q3.1: Create a predictive model to estimate the probability that an order is cancelled. Therefor validate and tune three models of your choice."
   ]
  },
  {
   "cell_type": "code",
   "execution_count": 17,
   "metadata": {},
   "outputs": [],
   "source": [
    "ism = invoice_stock_matrix.tocsr()\n",
    "sim = ism.transpose()\n",
    "ssm = sim*ism"
   ]
  },
  {
   "cell_type": "code",
   "execution_count": 18,
   "metadata": {},
   "outputs": [],
   "source": [
    "csm = customer_stock_matrix.tocsr()\n",
    "scm = csm.transpose()"
   ]
  },
  {
   "cell_type": "code",
   "execution_count": 19,
   "metadata": {},
   "outputs": [
    {
     "data": {
      "text/plain": [
       "<4070x4070 sparse matrix of type '<class 'numpy.int64'>'\n",
       "\twith 7507222 stored elements in Compressed Sparse Column format>"
      ]
     },
     "execution_count": 19,
     "metadata": {},
     "output_type": "execute_result"
    }
   ],
   "source": [
    "ssm"
   ]
  },
  {
   "cell_type": "code",
   "execution_count": 20,
   "metadata": {},
   "outputs": [
    {
     "data": {
      "text/plain": [
       "<4372x4070 sparse matrix of type '<class 'numpy.int64'>'\n",
       "\twith 267615 stored elements in Compressed Sparse Row format>"
      ]
     },
     "execution_count": 20,
     "metadata": {},
     "output_type": "execute_result"
    }
   ],
   "source": [
    "csm"
   ]
  },
  {
   "cell_type": "markdown",
   "metadata": {},
   "source": [
    "#### construct stock code to country coocurance matrix"
   ]
  },
  {
   "cell_type": "code",
   "execution_count": 21,
   "metadata": {},
   "outputs": [],
   "source": [
    "unique_countries = set(list(data.Country))"
   ]
  },
  {
   "cell_type": "code",
   "execution_count": 22,
   "metadata": {},
   "outputs": [],
   "source": [
    "mapping_country2idx = {k: v for k, v in zip(unique_countries,range(len(unique_countries)))}\n",
    "mapping_idx2country = {v: k for k, v in zip(unique_countries,range(len(unique_countries)))}"
   ]
  },
  {
   "cell_type": "code",
   "execution_count": 23,
   "metadata": {},
   "outputs": [],
   "source": [
    "country_stock_one = [((mapping_country2idx.get(c),mapping_stock_code2idx.get(s)) , 1) for (c,s) in zip(data.Country,data.StockCode)]"
   ]
  },
  {
   "cell_type": "code",
   "execution_count": 24,
   "metadata": {},
   "outputs": [],
   "source": [
    "country_stock_count = {}\n",
    "for ((country,stock),val) in country_stock_one:\n",
    "    if (country,stock) not in country_stock_count.keys():\n",
    "        country_stock_count[(country,stock)]=val\n",
    "    else:\n",
    "        country_stock_count[(country,stock)]+=val"
   ]
  },
  {
   "cell_type": "code",
   "execution_count": 25,
   "metadata": {},
   "outputs": [],
   "source": [
    "country_stock_count = list(country_stock_count.items())"
   ]
  },
  {
   "cell_type": "code",
   "execution_count": 27,
   "metadata": {},
   "outputs": [],
   "source": [
    "# Build sparse matrix\n",
    "import numpy as np\n",
    "from scipy.sparse import coo_matrix\n",
    "\n",
    "\n",
    "country_stock, val= zip(*country_stock_count)\n",
    "rows, cols  = map(np.array, zip(*country_stock))\n",
    "val = np.array(val)\n",
    "country_stock_matrix = coo_matrix((val, (rows, cols)))"
   ]
  },
  {
   "cell_type": "code",
   "execution_count": 28,
   "metadata": {},
   "outputs": [],
   "source": [
    "lsm = country_stock_matrix.tocsr()#location_2_stock_code\n",
    "lsmt = lsm.transpose()"
   ]
  },
  {
   "cell_type": "code",
   "execution_count": 29,
   "metadata": {},
   "outputs": [
    {
     "data": {
      "text/plain": [
       "<38x4070 sparse matrix of type '<class 'numpy.int64'>'\n",
       "\twith 19839 stored elements in Compressed Sparse Row format>"
      ]
     },
     "execution_count": 29,
     "metadata": {},
     "output_type": "execute_result"
    }
   ],
   "source": [
    "lsm"
   ]
  },
  {
   "cell_type": "markdown",
   "metadata": {},
   "source": [
    "#### construct embeddings: decentralized alternative least square algorithm"
   ]
  },
  {
   "cell_type": "code",
   "execution_count": 176,
   "metadata": {},
   "outputs": [],
   "source": [
    "#mapping_idx2country\n",
    "#mapping_idx2customer_id\n",
    "#mapping_idx2stock_code\n",
    "#lsm\n",
    "#csm\n",
    "#ssm"
   ]
  },
  {
   "cell_type": "code",
   "execution_count": 30,
   "metadata": {},
   "outputs": [],
   "source": [
    "from scipy.sparse import bmat\n",
    "co_oc = bmat([[ssm],[csm],[lsm]])"
   ]
  },
  {
   "cell_type": "markdown",
   "metadata": {},
   "source": [
    "#### Matrix factorization"
   ]
  },
  {
   "cell_type": "code",
   "execution_count": 31,
   "metadata": {},
   "outputs": [
    {
     "name": "stdout",
     "output_type": "stream",
     "text": [
      "(8480, 8480) (4070, 4070) (4070,)\n"
     ]
    }
   ],
   "source": [
    "A = co_oc.todense()\n",
    "A = np.log(A+1)\n",
    "U, s, V = np.linalg.svd(co_oc.todense(), full_matrices=True)\n",
    "print(U.shape, V.shape, s.shape)"
   ]
  },
  {
   "cell_type": "markdown",
   "metadata": {},
   "source": [
    "#### create embedding of transaction"
   ]
  },
  {
   "cell_type": "code",
   "execution_count": 33,
   "metadata": {},
   "outputs": [],
   "source": [
    "dim_keep = 1000\n",
    "embedings_stock = U[:len(unique_stock_code),:dim_keep]\n",
    "embedings_customer = U[len(unique_stock_code):(len(unique_stock_code)+len(unique_customer_id)),:dim_keep]\n",
    "embedings_country = U[(len(unique_stock_code)+len(unique_customer_id)):,:dim_keep]"
   ]
  },
  {
   "cell_type": "code",
   "execution_count": 34,
   "metadata": {},
   "outputs": [
    {
     "data": {
      "text/plain": [
       "2.5652214469102313e-05"
      ]
     },
     "execution_count": 34,
     "metadata": {},
     "output_type": "execute_result"
    }
   ],
   "source": [
    "np.mean(embedings_country)"
   ]
  },
  {
   "cell_type": "code",
   "execution_count": 35,
   "metadata": {},
   "outputs": [
    {
     "data": {
      "text/plain": [
       "0.006926213399818288"
      ]
     },
     "execution_count": 35,
     "metadata": {},
     "output_type": "execute_result"
    }
   ],
   "source": [
    "np.std(embedings_country)"
   ]
  },
  {
   "cell_type": "code",
   "execution_count": 36,
   "metadata": {},
   "outputs": [
    {
     "data": {
      "text/plain": [
       "(38, 1000)"
      ]
     },
     "execution_count": 36,
     "metadata": {},
     "output_type": "execute_result"
    }
   ],
   "source": [
    "embedings_country.shape"
   ]
  },
  {
   "cell_type": "code",
   "execution_count": 39,
   "metadata": {},
   "outputs": [],
   "source": [
    "data_sub = data[[\"StockCode\",\"CustomerID\",\"Country\",\"Quantity\",\"UnitPrice\",\"is_cancelled\"]]\n",
    "data_sub_dropna = data_sub.dropna()"
   ]
  },
  {
   "cell_type": "code",
   "execution_count": 40,
   "metadata": {},
   "outputs": [],
   "source": [
    "quantity_mean = np.mean(np.abs(data.Quantity))"
   ]
  },
  {
   "cell_type": "code",
   "execution_count": 41,
   "metadata": {},
   "outputs": [],
   "source": [
    "quantity_std = np.std(np.abs(data.Quantity))"
   ]
  },
  {
   "cell_type": "code",
   "execution_count": 42,
   "metadata": {},
   "outputs": [],
   "source": [
    "unit_price_mean = np.mean(np.abs(data.UnitPrice))"
   ]
  },
  {
   "cell_type": "code",
   "execution_count": 43,
   "metadata": {},
   "outputs": [],
   "source": [
    "unit_price_std = np.std(np.abs(data.UnitPrice))"
   ]
  },
  {
   "cell_type": "code",
   "execution_count": 44,
   "metadata": {},
   "outputs": [],
   "source": [
    "label = np.array(data_sub_dropna.is_cancelled)"
   ]
  },
  {
   "cell_type": "code",
   "execution_count": 45,
   "metadata": {},
   "outputs": [],
   "source": [
    "num_trans = len(data_sub_dropna)\n",
    "output = np.zeros((num_trans,3*dim_keep+2))\n",
    "for i in range(num_trans):\n",
    "    trans = data_sub_dropna.iloc[i]\n",
    "    c,s,l = trans.CustomerID,trans.StockCode,trans.Country \n",
    "    \n",
    "    c_idx = mapping_customer_id2idx.get(c)\n",
    "    s_idx = mapping_stock_code2idx.get(s)\n",
    "    l_idx = mapping_country2idx.get(l)\n",
    "    \n",
    "    output[i,:dim_keep] = embedings_customer[c_idx,:]\n",
    "    output[i,dim_keep:(2*dim_keep)] = embedings_stock[s_idx,:]\n",
    "    output[i,2*dim_keep:3*dim_keep] = embedings_country[l_idx,:]\n",
    "    output[i,-2] = (np.abs(trans.Quantity)- quantity_mean)/(quantity_std*100)\n",
    "    output[i,-1] = (trans.UnitPrice- unit_price_mean)/(unit_price_std*100)\n",
    "    "
   ]
  },
  {
   "cell_type": "code",
   "execution_count": 46,
   "metadata": {},
   "outputs": [],
   "source": [
    "np.save('../data/data1000',output)"
   ]
  },
  {
   "cell_type": "code",
   "execution_count": 47,
   "metadata": {},
   "outputs": [],
   "source": [
    "np.save('../data/label',label)"
   ]
  },
  {
   "cell_type": "markdown",
   "metadata": {},
   "source": [
    "### Modeling"
   ]
  },
  {
   "cell_type": "code",
   "execution_count": 6,
   "metadata": {},
   "outputs": [],
   "source": [
    "import numpy as np\n",
    "data_np = np.load('../data/data1000.npy')\n",
    "label_np = np.load('../data/label.npy')"
   ]
  },
  {
   "cell_type": "code",
   "execution_count": 51,
   "metadata": {},
   "outputs": [],
   "source": [
    "from sklearn.model_selection import train_test_split\n",
    "\n",
    "X_train, X_test, y_train, y_test = train_test_split(data_np, label_np, test_size=0.33, random_state=42)"
   ]
  },
  {
   "cell_type": "code",
   "execution_count": 52,
   "metadata": {},
   "outputs": [
    {
     "data": {
      "text/plain": [
       "(272575, 3002)"
      ]
     },
     "execution_count": 52,
     "metadata": {},
     "output_type": "execute_result"
    }
   ],
   "source": [
    "X_train.shape"
   ]
  },
  {
   "cell_type": "code",
   "execution_count": 53,
   "metadata": {},
   "outputs": [
    {
     "data": {
      "text/plain": [
       "array([[0],\n",
       "       [0],\n",
       "       [1],\n",
       "       ...,\n",
       "       [0],\n",
       "       [0],\n",
       "       [0]])"
      ]
     },
     "execution_count": 53,
     "metadata": {},
     "output_type": "execute_result"
    }
   ],
   "source": [
    "y_test"
   ]
  },
  {
   "cell_type": "code",
   "execution_count": 54,
   "metadata": {},
   "outputs": [],
   "source": [
    "import tensorflow as tf"
   ]
  },
  {
   "cell_type": "markdown",
   "metadata": {},
   "source": [
    "#### a. Logistic regression"
   ]
  },
  {
   "cell_type": "code",
   "execution_count": 55,
   "metadata": {},
   "outputs": [
    {
     "name": "stdout",
     "output_type": "stream",
     "text": [
      "Epoch: 0001 cost= 0.148858292\n",
      "Epoch: 0002 cost= 0.114693212\n",
      "Epoch: 0003 cost= 0.105459063\n",
      "Epoch: 0004 cost= 0.103762440\n",
      "Epoch: 0005 cost= 0.102787821\n",
      "Epoch: 0006 cost= 0.098604206\n",
      "Epoch: 0007 cost= 0.098610566\n",
      "Epoch: 0008 cost= 0.098407367\n",
      "Epoch: 0009 cost= 0.097411990\n",
      "Epoch: 0010 cost= 0.096461518\n",
      "Epoch: 0011 cost= 0.095178362\n",
      "Epoch: 0012 cost= 0.096046431\n",
      "Epoch: 0013 cost= 0.094861611\n",
      "Epoch: 0014 cost= 0.096080654\n",
      "Epoch: 0015 cost= 0.095344979\n",
      "Epoch: 0016 cost= 0.094589378\n",
      "Epoch: 0017 cost= 0.096734506\n",
      "Epoch: 0018 cost= 0.095915187\n",
      "Epoch: 0019 cost= 0.093863710\n",
      "Epoch: 0020 cost= 0.093370872\n",
      "Epoch: 0021 cost= 0.092865240\n",
      "Epoch: 0022 cost= 0.093514522\n",
      "Epoch: 0023 cost= 0.093563355\n",
      "Epoch: 0024 cost= 0.092384431\n",
      "Epoch: 0025 cost= 0.092766220\n",
      "Epoch: 0026 cost= 0.093241651\n",
      "Epoch: 0027 cost= 0.092796964\n",
      "Epoch: 0028 cost= 0.092380359\n",
      "Epoch: 0029 cost= 0.093548201\n",
      "Epoch: 0030 cost= 0.092333674\n",
      "Epoch: 0031 cost= 0.092722497\n",
      "Epoch: 0032 cost= 0.092230846\n",
      "Epoch: 0033 cost= 0.092662343\n",
      "Epoch: 0034 cost= 0.090993076\n",
      "Epoch: 0035 cost= 0.092618078\n",
      "Epoch: 0036 cost= 0.091467186\n",
      "Epoch: 0037 cost= 0.092200328\n",
      "Epoch: 0038 cost= 0.091224406\n",
      "Epoch: 0039 cost= 0.093155369\n",
      "Epoch: 0040 cost= 0.092106518\n",
      "Epoch: 0041 cost= 0.092571452\n",
      "Epoch: 0042 cost= 0.090611390\n",
      "Epoch: 0043 cost= 0.090106383\n",
      "Epoch: 0044 cost= 0.092441283\n",
      "Epoch: 0045 cost= 0.090857523\n",
      "Epoch: 0046 cost= 0.090527424\n",
      "Epoch: 0047 cost= 0.090868117\n",
      "Epoch: 0048 cost= 0.089795775\n",
      "Epoch: 0049 cost= 0.091364392\n",
      "Epoch: 0050 cost= 0.091156172\n",
      "Optimization Finished!\n"
     ]
    }
   ],
   "source": [
    "import tensorflow as tf\n",
    "\n",
    "input_dim = 3*dim_keep+2\n",
    "# Parameters\n",
    "learning_rate = 0.001\n",
    "training_epochs = 50\n",
    "batch_size = 100\n",
    "display_step = 1\n",
    "\n",
    "graph = tf.Graph()\n",
    "with graph.as_default():\n",
    "    # tf Graph Input\n",
    "    x = tf.placeholder(tf.float32, [None, input_dim]) # mnist data image of shape 28*28=784\n",
    "    y = tf.placeholder(tf.float32, [None,1]) # 0-9 digits recognition => 10 classes\n",
    "\n",
    "    # Set model weights\n",
    "    W = tf.get_variable(\"W\", (input_dim,1),initializer=tf.random_normal_initializer())\n",
    "    b = tf.get_variable(\"b\", (1),initializer=tf.random_normal_initializer())\n",
    "\n",
    "    # Construct model\n",
    "    logits = tf.matmul(x, W) + b\n",
    "    pred = tf.nn.sigmoid(logits) \n",
    "\n",
    "    # Minimize error using cross entropy\n",
    "    cost = tf.reduce_mean(tf.nn.sigmoid_cross_entropy_with_logits(logits=logits,labels=y))\n",
    "    # Gradient Descent\n",
    "    optimizer = tf.train.AdamOptimizer(learning_rate).minimize(cost)\n",
    "\n",
    "    # Initialize the variables (i.e. assign their default value)\n",
    "    init = tf.global_variables_initializer()\n",
    "\n",
    "    # Start training\n",
    "    with tf.Session() as sess:\n",
    "\n",
    "        # Run the initializer\n",
    "        sess.run(init)\n",
    "\n",
    "        # Training cycle\n",
    "        for epoch in range(training_epochs):\n",
    "            avg_cost = 0.\n",
    "            total_batch = int(X_train.shape[0]/batch_size)\n",
    "            # Loop over all batches\n",
    "            for i in range(total_batch):\n",
    "                batch_idx = np.random.choice(X_train.shape[0], batch_size)\n",
    "\n",
    "                batch_xs, batch_ys = X_train[batch_idx,],y_train[batch_idx]\n",
    "                # Run optimization op (backprop) and cost op (to get loss value)\n",
    "                _, c = sess.run([optimizer, cost], feed_dict={x: batch_xs,\n",
    "                                                              y: batch_ys})\n",
    "                # Compute average loss\n",
    "                avg_cost += c / total_batch\n",
    "            # Display logs per epoch step\n",
    "            if (epoch+1) % display_step == 0:\n",
    "                print(\"Epoch:\", '%04d' % (epoch+1), \"cost=\", \"{:.9f}\".format(avg_cost))\n",
    "\n",
    "        print(\"Optimization Finished!\")\n",
    "\n",
    "        # Test model\n",
    "        #correct_prediction = tf.equal(pred>0.5, y)\n",
    "        # Calculate accuracy\n",
    "        #accuracy = tf.reduce_mean(tf.cast(correct_prediction, tf.float32))\n",
    "        y_score_lg = pred.eval({x: X_test, y: y_test})\n"
   ]
  },
  {
   "cell_type": "code",
   "execution_count": 57,
   "metadata": {},
   "outputs": [
    {
     "name": "stdout",
     "output_type": "stream",
     "text": [
      "0.978533228060244\n",
      "0.5681818181818182\n",
      "0.00865650969529086\n",
      "0.7601460058221383\n",
      "[[131347     19]\n",
      " [  2863     25]]\n"
     ]
    }
   ],
   "source": [
    "from sklearn.metrics import roc_auc_score,accuracy_score, precision_score,recall_score,roc_curve,auc,confusion_matrix\n",
    "\n",
    "fpr_lg, tpr_lg, _ = roc_curve(y_test, y_score_lg)\n",
    "roc_auc_lg = auc(fpr_lg, tpr_lg)\n",
    "    \n",
    "y_pred_lg = y_score_lg>0.5\n",
    "print(accuracy_score(y_test, y_pred_lg))\n",
    "print(precision_score(y_test, y_pred_lg))\n",
    "print(recall_score(y_test, y_pred_lg))\n",
    "print(roc_auc_score(y_test, y_score_lg))\n",
    "print(confusion_matrix(y_test, y_pred_lg))"
   ]
  },
  {
   "cell_type": "markdown",
   "metadata": {},
   "source": [
    "### random guess"
   ]
  },
  {
   "cell_type": "code",
   "execution_count": 58,
   "metadata": {},
   "outputs": [],
   "source": [
    "y_score_rand= np.random.rand(len(y_test),1)"
   ]
  },
  {
   "cell_type": "code",
   "execution_count": 59,
   "metadata": {},
   "outputs": [
    {
     "name": "stdout",
     "output_type": "stream",
     "text": [
      "0.5007820996022465\n",
      "0.02190183683206107\n",
      "0.5086565096952909\n",
      "0.5022373894120772\n",
      "[[65763 65603]\n",
      " [ 1419  1469]]\n"
     ]
    }
   ],
   "source": [
    "from sklearn.metrics import roc_auc_score,accuracy_score, precision_score,recall_score,roc_curve,auc\n",
    "\n",
    "fpr_rand, tpr_rand, _ = roc_curve(y_test, y_score_rand)\n",
    "roc_auc_rand = auc(fpr_rand, tpr_rand)\n",
    "    \n",
    "y_pred_rand = y_score_rand>0.5\n",
    "print(accuracy_score(y_test, y_pred_rand))\n",
    "print(precision_score(y_test, y_pred_rand))\n",
    "print(recall_score(y_test, y_pred_rand))\n",
    "print(roc_auc_score(y_test, y_score_rand))\n",
    "print(confusion_matrix(y_test, y_pred_rand))"
   ]
  },
  {
   "cell_type": "markdown",
   "metadata": {},
   "source": [
    "#### Neural Network"
   ]
  },
  {
   "cell_type": "code",
   "execution_count": 60,
   "metadata": {},
   "outputs": [],
   "source": [
    "import tensorflow as tf\n",
    "\n",
    "def NN(X_train,X_test,y_train,y_test,input_dim=input_dim):\n",
    "\n",
    "\n",
    "    # Parameters\n",
    "    learning_rate = 0.001\n",
    "    training_epochs = 50\n",
    "    batch_size = 100\n",
    "    display_step = 1\n",
    "    h1 = 10\n",
    "    h2 = 10\n",
    "    h3 = 10\n",
    "\n",
    "    graph = tf.Graph()\n",
    "    with graph.as_default():\n",
    "\n",
    "        # tf Graph Input\n",
    "        x = tf.placeholder(tf.float32, [None, input_dim]) # mnist data image of shape 28*28=784\n",
    "        y = tf.placeholder(tf.float32, [None,1]) # 0-9 digits recognition => 10 classes\n",
    "\n",
    "        # Set model weights\n",
    "        W1 = tf.get_variable(\"W1\", (input_dim,h1),initializer=tf.random_normal_initializer())\n",
    "        b1 = tf.get_variable(\"b1\", (h1),initializer=tf.random_normal_initializer())\n",
    "\n",
    "        W2 = tf.get_variable(\"W2\",(h1, h2),initializer=tf.random_normal_initializer())\n",
    "        b2 = tf.get_variable(\"b2\",(h2),initializer=tf.random_normal_initializer())\n",
    "\n",
    "        W3 = tf.get_variable(\"W3\",(h2, h3),initializer=tf.random_normal_initializer())\n",
    "        b3 = tf.get_variable(\"b3\", (h3),initializer=tf.random_normal_initializer())\n",
    "\n",
    "        W4 = tf.get_variable(\"W4\", (h1,1),initializer=tf.random_normal_initializer())\n",
    "        b4 = tf.get_variable(\"b4\", (1),initializer=tf.random_normal_initializer())\n",
    "\n",
    "\n",
    "        # Construct model\n",
    "        z1 = tf.matmul(x, W1) + b1\n",
    "        z1 = tf.nn.selu(z1)\n",
    "\n",
    "        z2 = tf.matmul(z1, W2) + b2\n",
    "        z2 = tf.nn.selu(z2)\n",
    "\n",
    "        z3 = tf.matmul(z2, W3) + b3\n",
    "        z3 = tf.nn.selu(z3)\n",
    "\n",
    "        logits = tf.matmul(z3, W4) + b4\n",
    "\n",
    "        pred = tf.nn.sigmoid(logits) \n",
    "\n",
    "        # Minimize error using cross entropy\n",
    "        cost = tf.reduce_mean(tf.nn.sigmoid_cross_entropy_with_logits(logits=logits,labels=y))\n",
    "        # Gradient Descent\n",
    "        optimizer = tf.train.AdamOptimizer(learning_rate).minimize(cost)\n",
    "\n",
    "        # Initialize the variables (i.e. assign their default value)\n",
    "        init = tf.global_variables_initializer()\n",
    "\n",
    "        # Start training\n",
    "        with tf.Session() as sess:\n",
    "\n",
    "            # Run the initializer\n",
    "            sess.run(init)\n",
    "\n",
    "            # Training cycle\n",
    "            for epoch in range(training_epochs):\n",
    "                avg_cost = 0.\n",
    "                total_batch = int(X_train.shape[0]/batch_size)\n",
    "                # Loop over all batches\n",
    "                for i in range(total_batch):\n",
    "                    batch_idx = np.random.choice(X_train.shape[0], batch_size)\n",
    "\n",
    "                    batch_xs, batch_ys = X_train[batch_idx,],y_train[batch_idx]\n",
    "                    # Run optimization op (backprop) and cost op (to get loss value)\n",
    "                    _, c = sess.run([optimizer, cost], feed_dict={x: batch_xs,\n",
    "                                                                  y: batch_ys})\n",
    "                    # Compute average loss\n",
    "                    avg_cost += c / total_batch\n",
    "                # Display logs per epoch step\n",
    "                if (epoch+1) % display_step == 0:\n",
    "                    print(\"Epoch:\", '%04d' % (epoch+1), \"cost=\", \"{:.9f}\".format(avg_cost))\n",
    "\n",
    "            print(\"Optimization Finished!\")\n",
    "\n",
    "            # Test model\n",
    "            #correct_prediction = tf.equal(pred>0.5, y)\n",
    "            # Calculate accuracy\n",
    "            #accuracy = tf.reduce_mean(tf.cast(correct_prediction, tf.float32))\n",
    "            y_score_nn = pred.eval({x: X_test, y: y_test})\n",
    "            return y_score_nn\n",
    "\n",
    "\n",
    "\n"
   ]
  },
  {
   "cell_type": "code",
   "execution_count": 61,
   "metadata": {},
   "outputs": [
    {
     "name": "stdout",
     "output_type": "stream",
     "text": [
      "Epoch: 0001 cost= 0.278019356\n",
      "Epoch: 0002 cost= 0.106744953\n",
      "Epoch: 0003 cost= 0.104735814\n",
      "Epoch: 0004 cost= 0.102814039\n",
      "Epoch: 0005 cost= 0.103539167\n",
      "Epoch: 0006 cost= 0.096967301\n",
      "Epoch: 0007 cost= 0.098860018\n",
      "Epoch: 0008 cost= 0.097441650\n",
      "Epoch: 0009 cost= 0.095863295\n",
      "Epoch: 0010 cost= 0.095607638\n",
      "Epoch: 0011 cost= 0.094073719\n",
      "Epoch: 0012 cost= 0.095175081\n",
      "Epoch: 0013 cost= 0.093042231\n",
      "Epoch: 0014 cost= 0.092064863\n",
      "Epoch: 0015 cost= 0.092219292\n",
      "Epoch: 0016 cost= 0.090562149\n",
      "Epoch: 0017 cost= 0.089943069\n",
      "Epoch: 0018 cost= 0.092757382\n",
      "Epoch: 0019 cost= 0.089425818\n",
      "Epoch: 0020 cost= 0.090369433\n",
      "Epoch: 0021 cost= 0.087758886\n",
      "Epoch: 0022 cost= 0.088267139\n",
      "Epoch: 0023 cost= 0.088184999\n",
      "Epoch: 0024 cost= 0.086648725\n",
      "Epoch: 0025 cost= 0.086783539\n",
      "Epoch: 0026 cost= 0.087449995\n",
      "Epoch: 0027 cost= 0.086220574\n",
      "Epoch: 0028 cost= 0.084796861\n",
      "Epoch: 0029 cost= 0.084407797\n",
      "Epoch: 0030 cost= 0.084483317\n",
      "Epoch: 0031 cost= 0.086611131\n",
      "Epoch: 0032 cost= 0.084346380\n",
      "Epoch: 0033 cost= 0.086380358\n",
      "Epoch: 0034 cost= 0.084078145\n",
      "Epoch: 0035 cost= 0.083572176\n",
      "Epoch: 0036 cost= 0.083716827\n",
      "Epoch: 0037 cost= 0.084845028\n",
      "Epoch: 0038 cost= 0.082788332\n",
      "Epoch: 0039 cost= 0.084801142\n",
      "Epoch: 0040 cost= 0.083481539\n",
      "Epoch: 0041 cost= 0.083524668\n",
      "Epoch: 0042 cost= 0.081357629\n",
      "Epoch: 0043 cost= 0.081835124\n",
      "Epoch: 0044 cost= 0.083361228\n",
      "Epoch: 0045 cost= 0.080451852\n",
      "Epoch: 0046 cost= 0.080222589\n",
      "Epoch: 0047 cost= 0.080598126\n",
      "Epoch: 0048 cost= 0.080880390\n",
      "Epoch: 0049 cost= 0.079392398\n",
      "Epoch: 0050 cost= 0.080431289\n",
      "Optimization Finished!\n"
     ]
    }
   ],
   "source": [
    "y_score_nn = NN(X_train,X_test,y_train,y_test)"
   ]
  },
  {
   "cell_type": "code",
   "execution_count": 62,
   "metadata": {},
   "outputs": [],
   "source": [
    "def evaluate(y_score_nn):\n",
    "    from sklearn.metrics import roc_auc_score,accuracy_score, precision_score,recall_score,roc_curve,auc,confusion_matrix\n",
    "\n",
    "    fpr_nn, tpr_nn, _ = roc_curve(y_test, y_score_nn)\n",
    "    roc_auc_nn = auc(fpr_nn, tpr_nn)\n",
    "\n",
    "    y_pred_nn = y_score_nn>0.5\n",
    "    print(\"accuracy: \",accuracy_score(y_test, y_pred_nn))\n",
    "    print(\"precision: \",precision_score(y_test, y_pred_nn))\n",
    "    print(\"recall: \", recall_score(y_test, y_pred_nn))\n",
    "    print(\"roc: \", roc_auc_score(y_test, y_score_nn))\n",
    "    print(\"confusion matrix: \\n\",confusion_matrix(y_test, y_pred_nn))"
   ]
  },
  {
   "cell_type": "code",
   "execution_count": 63,
   "metadata": {},
   "outputs": [
    {
     "name": "stdout",
     "output_type": "stream",
     "text": [
      "accuracy:  0.978145902542941\n",
      "precision:  0.4094488188976378\n",
      "recall:  0.036011080332409975\n",
      "roc:  0.7615210113943142\n",
      "confusion matrix: \n",
      " [[131216    150]\n",
      " [  2784    104]]\n"
     ]
    }
   ],
   "source": [
    "from sklearn.metrics import roc_auc_score,accuracy_score, precision_score,recall_score,roc_curve,auc,confusion_matrix\n",
    "\n",
    "fpr_nn, tpr_nn, _ = roc_curve(y_test, y_score_nn)\n",
    "roc_auc_nn = auc(fpr_nn, tpr_nn)\n",
    "\n",
    "y_pred_nn = y_score_nn>0.5\n",
    "print(\"accuracy: \",accuracy_score(y_test, y_pred_nn))\n",
    "print(\"precision: \",precision_score(y_test, y_pred_nn))\n",
    "print(\"recall: \", recall_score(y_test, y_pred_nn))\n",
    "print(\"roc: \", roc_auc_score(y_test, y_score_nn))\n",
    "print(\"confusion matrix: \\n\",confusion_matrix(y_test, y_pred_nn))"
   ]
  },
  {
   "cell_type": "markdown",
   "metadata": {},
   "source": [
    "### comparison between models performance"
   ]
  },
  {
   "cell_type": "code",
   "execution_count": 67,
   "metadata": {},
   "outputs": [
    {
     "data": {
      "image/png": "[encoded data removed]",
      "text/plain": [
       "<Figure size 432x288 with 1 Axes>"
      ]
     },
     "metadata": {},
     "output_type": "display_data"
    }
   ],
   "source": [
    "import matplotlib.pyplot as plt\n",
    "plt.figure()\n",
    "lw = 2\n",
    "plt.plot(fpr_rand, tpr_rand, color='navy',linestyle='--',\n",
    "         lw=lw, label='ROC curve (area = %0.2f)(randome guess)' % roc_auc_rand)\n",
    "#plt.plot([0, 1], [0, 1], color='navy', lw=lw, linestyle='--')\n",
    "plt.plot(fpr_nn, tpr_nn, color='green',linestyle='--',\n",
    "         lw=lw, label='ROC curve (area = %0.2f)(neural network)' % roc_auc_nn)\n",
    "#plt.plot([0, 1], [0, 1], color='navy', lw=lw, linestyle='--')\n",
    "plt.plot(fpr_lg, tpr_lg, color='darkorange',\n",
    "         lw=lw, label='ROC curve (area = %0.2f)(logistic regression)' % roc_auc_lg)\n",
    "plt.xlim([0.0, 1.0])\n",
    "plt.ylim([0.0, 1.05])\n",
    "plt.xlabel('False Positive Rate')\n",
    "plt.ylabel('True Positive Rate')\n",
    "plt.title('Receiver operating characteristic example')\n",
    "plt.legend(loc=\"lower right\")\n",
    "plt.show()"
   ]
  },
  {
   "cell_type": "markdown",
   "metadata": {},
   "source": [
    "## Next step:\n",
    "1. Replace the SVD with decentralized alternative least squre algorithm so that the embedding learning can be scaled up to even larger data set.\n",
    "2. Parse time into local time given the courntry, and generate hour, working day, holiday, features. Finally, create embedding out of these features.\n",
    "3. Incoperate the quantity and unit price into the cooccurance matrix construction."
   ]
  },
  {
   "cell_type": "markdown",
   "metadata": {},
   "source": [
    "#### 1. Isolate unit price"
   ]
  },
  {
   "cell_type": "code",
   "execution_count": 7,
   "metadata": {},
   "outputs": [],
   "source": [
    "data_np_tmp = data_np[:,:-1]"
   ]
  },
  {
   "cell_type": "code",
   "execution_count": null,
   "metadata": {},
   "outputs": [],
   "source": [
    "from sklearn.model_selection import train_test_split\n",
    "X_train, X_test, y_train, y_test = train_test_split(data_np_tmp, label_np, test_size=0.33, random_state=42)\n",
    "y_score_nn = NN(X_train, X_test, y_train, y_test,input_dim=3001)\n",
    "evaluate(y_score_nn)"
   ]
  },
  {
   "cell_type": "markdown",
   "metadata": {},
   "source": [
    "#### 2. Isolate quantity"
   ]
  },
  {
   "cell_type": "code",
   "execution_count": null,
   "metadata": {},
   "outputs": [],
   "source": [
    "data_np_tmp = np.concatenate((data_np[:,:-2],data_np[:,-1].reshape(-1,1)),axis=1)"
   ]
  },
  {
   "cell_type": "code",
   "execution_count": null,
   "metadata": {},
   "outputs": [],
   "source": [
    "from sklearn.model_selection import train_test_split\n",
    "X_train, X_test, y_train, y_test = train_test_split(data_np_tmp, label_np, test_size=0.33, random_state=42)\n",
    "y_score_nn = NN(X_train, X_test, y_train, y_test,input_dim=3001)\n",
    "evaluate(y_score_nn)"
   ]
  },
  {
   "cell_type": "markdown",
   "metadata": {},
   "source": [
    "#### 3. Isolate customer"
   ]
  },
  {
   "cell_type": "code",
   "execution_count": null,
   "metadata": {},
   "outputs": [],
   "source": [
    "data_np_tmp = data_np[:,1000:]"
   ]
  },
  {
   "cell_type": "code",
   "execution_count": null,
   "metadata": {},
   "outputs": [],
   "source": [
    "data_np_tmp.shape"
   ]
  },
  {
   "cell_type": "code",
   "execution_count": null,
   "metadata": {},
   "outputs": [],
   "source": [
    "from sklearn.model_selection import train_test_split\n",
    "X_train, X_test, y_train, y_test = train_test_split(data_np_tmp, label_np, test_size=0.33, random_state=42)\n",
    "y_score_nn = NN(X_train, X_test, y_train, y_test,input_dim=2002)\n",
    "evaluate(y_score_nn)"
   ]
  },
  {
   "cell_type": "markdown",
   "metadata": {},
   "source": [
    "#### 4. Isolate stock code"
   ]
  },
  {
   "cell_type": "code",
   "execution_count": null,
   "metadata": {},
   "outputs": [],
   "source": [
    "data_np_tmp = np.concatenate((data_np[:,:1000],data_np[:,2000:]),axis=1)"
   ]
  },
  {
   "cell_type": "code",
   "execution_count": null,
   "metadata": {},
   "outputs": [],
   "source": [
    "data_np_tmp.shape"
   ]
  },
  {
   "cell_type": "code",
   "execution_count": null,
   "metadata": {},
   "outputs": [],
   "source": [
    "from sklearn.model_selection import train_test_split\n",
    "X_train, X_test, y_train, y_test = train_test_split(data_np_tmp, label_np, test_size=0.33, random_state=42)\n",
    "y_score_nn = NN(X_train, X_test, y_train, y_test,input_dim=2002)\n",
    "evaluate(y_score_nn)"
   ]
  },
  {
   "cell_type": "markdown",
   "metadata": {},
   "source": [
    "#### 5. Isolate country"
   ]
  },
  {
   "cell_type": "code",
   "execution_count": null,
   "metadata": {},
   "outputs": [],
   "source": [
    "data_np_tmp = np.concatenate((data_np[:,:2000],data_np[:,3000:]),axis=1)"
   ]
  },
  {
   "cell_type": "code",
   "execution_count": null,
   "metadata": {},
   "outputs": [],
   "source": [
    "data_np_tmp.shape"
   ]
  },
  {
   "cell_type": "code",
   "execution_count": null,
   "metadata": {},
   "outputs": [],
   "source": [
    "from sklearn.model_selection import train_test_split\n",
    "X_train, X_test, y_train, y_test = train_test_split(data_np_tmp, label_np, test_size=0.33, random_state=42)\n",
    "y_score_nn = NN(X_train, X_test, y_train, y_test,input_dim=2002)\n",
    "evaluate(y_score_nn)"
   ]
  },
  {
   "cell_type": "code",
   "execution_count": null,
   "metadata": {},
   "outputs": [],
   "source": []
  },
  {
   "cell_type": "code",
   "execution_count": null,
   "metadata": {},
   "outputs": [],
   "source": []
  },
  {
   "cell_type": "code",
   "execution_count": null,
   "metadata": {},
   "outputs": [],
   "source": []
  }
 ],
 "metadata": {
  "kernelspec": {
   "display_name": "Python 3",
   "language": "python",
   "name": "python3"
  },
  "language_info": {
   "codemirror_mode": {
    "name": "ipython",
    "version": 3
   },
   "file_extension": ".py",
   "mimetype": "text/x-python",
   "name": "python",
   "nbconvert_exporter": "python",
   "pygments_lexer": "ipython3",
   "version": "3.6.5"
  }
 },
 "nbformat": 4,
 "nbformat_minor": 2
}
